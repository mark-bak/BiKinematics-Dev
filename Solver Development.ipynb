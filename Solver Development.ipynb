{
 "cells": [
  {
   "cell_type": "markdown",
   "id": "established-fever",
   "metadata": {},
   "source": [
    "# Bike - Solver Development\n",
    "\n"
   ]
  },
  {
   "cell_type": "markdown",
   "id": "nuclear-affair",
   "metadata": {},
   "source": [
    "Import modules"
   ]
  },
  {
   "cell_type": "code",
   "execution_count": 1,
   "id": "signed-substance",
   "metadata": {
    "scrolled": true
   },
   "outputs": [],
   "source": [
    "import json\n",
    "import matplotlib\n",
    "import matplotlib.pyplot as plt\n",
    "import numpy as np\n",
    "\n"
   ]
  },
  {
   "cell_type": "markdown",
   "id": "designing-stanley",
   "metadata": {},
   "source": [
    "Import bike scripts"
   ]
  },
  {
   "cell_type": "code",
   "execution_count": 2,
   "id": "severe-helena",
   "metadata": {},
   "outputs": [],
   "source": [
    "\n",
    "import sys\n",
    "sys.path.append(r\"C:\\Users\\Mark\\Documents\\Important\\Programming\\bikinematicsolver\\bikinematicsolver\")\n",
    "\n",
    "from bike import Bike\n",
    "import geometry as g\n",
    "from dtypes import Pos_Result"
   ]
  },
  {
   "cell_type": "markdown",
   "id": "sublime-nowhere",
   "metadata": {},
   "source": [
    "Define loading functon for our bike data"
   ]
  },
  {
   "cell_type": "code",
   "execution_count": 3,
   "id": "marine-transaction",
   "metadata": {},
   "outputs": [],
   "source": [
    "def load_json(filename):\n",
    "    with open(filename) as f:\n",
    "        data = json.load(f)\n",
    "        for point_name,point in data['points'].items():\n",
    "                point['pos'] = [point['pos'][0]*data['params']['p2mm'] ,point['pos'][1]*data['params']['p2mm']]\n",
    "    return data"
   ]
  },
  {
   "cell_type": "markdown",
   "id": "behavioral-rebate",
   "metadata": {},
   "source": [
    "Data"
   ]
  },
  {
   "cell_type": "code",
   "execution_count": 4,
   "id": "ceramic-being",
   "metadata": {},
   "outputs": [],
   "source": [
    "horst_example = r\"C:\\Users\\Mark\\Documents\\Important\\Programming\\BiKinematics\\Savefiles\\Example_VitusSommet_new_format.json\"\n",
    "dw_example = r'C:\\Users\\Mark\\Documents\\Important\\Programming\\BiKinematics\\Savefiles\\Example_PivotMach6.json'\n",
    "split_piv_example = r'C:\\Users\\Mark\\Documents\\Important\\Programming\\BiKinematics\\Savefiles\\Example_DevinciMarshall.json'\n",
    "single_piv_example = r'C:\\Users\\Mark\\Documents\\Important\\Programming\\BiKinematics\\Savefiles\\Example_OrangeFive.json'"
   ]
  },
  {
   "cell_type": "code",
   "execution_count": 5,
   "metadata": {},
   "outputs": [
    {
     "output_type": "stream",
     "name": "stdout",
     "text": [
      "Link(a=Point(name='Shock_Frame', type='ground', pos=[876.3592750533048, 523.1396588486141]), b=Point(name='Shock_Rocker', type='linkage', pos=[897.7665245202558, 727.8464818763329]), length=205.82311270564838)\n"
     ]
    }
   ],
   "source": [
    "data = load_json(horst_example)\n",
    "b = Bike(data)\n",
    "print(b.shock)"
   ]
  },
  {
   "cell_type": "markdown",
   "id": "cooperative-borough",
   "metadata": {},
   "source": [
    "## Different Suspension Types - Leverage Ratio (and now Anti-Squat (still needs validation!)\n",
    "\n",
    "Test a variety of suspension types and see:\n",
    "- If solver is able to produce solution\n",
    "- If leverage ratio looks sensible\n",
    "- Not really sure what to measure against - maybe leverage ratio curves from manufacturers??"
   ]
  },
  {
   "cell_type": "markdown",
   "id": "saved-partnership",
   "metadata": {},
   "source": [
    "Plot function"
   ]
  },
  {
   "cell_type": "code",
   "execution_count": 6,
   "id": "beneficial-doubt",
   "metadata": {},
   "outputs": [],
   "source": [
    "def show_leverage_ratio(filename):\n",
    "    data = load_json(filename)\n",
    "    b = Bike(data)\n",
    "    b.get_suspension_motion(100,'test')\n",
    "    b.calculate_suspension_characteristics('test')\n",
    "    fig, ax = plt.subplots()\n",
    "    x = b.solution['test']['Vertical Travel']\n",
    "    y = b.solution['test']['Leverage Ratio']\n",
    "    ax.plot(x, y)\n",
    "    ax.set_title('Leverage Ratio')\n",
    "    plt.rcParams['figure.figsize'] = [9.5, 6]\n",
    "    plt.show()\n",
    "\n",
    "def show_AS(filename):\n",
    "    data = load_json(filename)\n",
    "    b = Bike(data)\n",
    "    b.get_suspension_motion(100,'test')\n",
    "    b.calculate_suspension_characteristics('test')\n",
    "    fig, ax = plt.subplots()\n",
    "    x = b.solution['test']['Vertical Travel']\n",
    "    y = b.solution['test']['Anti Squat Percent']\n",
    "    ax.plot(x, y)\n",
    "    ax.set_title('Anti Squat')\n",
    "    plt.rcParams['figure.figsize'] = [9.5, 6]\n",
    "    plt.show()"
   ]
  },
  {
   "cell_type": "markdown",
   "id": "color-pension",
   "metadata": {},
   "source": [
    "### Horst Link Test"
   ]
  },
  {
   "cell_type": "code",
   "execution_count": 7,
   "id": "powerful-chorus",
   "metadata": {
    "scrolled": false
   },
   "outputs": [
    {
     "output_type": "display_data",
     "data": {
      "text/plain": "<Figure size 432x288 with 1 Axes>",
      "image/svg+xml": "<?xml version=\"1.0\" encoding=\"utf-8\" standalone=\"no\"?>\r\n<!DOCTYPE svg PUBLIC \"-//W3C//DTD SVG 1.1//EN\"\r\n  \"http://www.w3.org/Graphics/SVG/1.1/DTD/svg11.dtd\">\r\n<svg height=\"263.63625pt\" version=\"1.1\" viewBox=\"0 0 372.103125 263.63625\" width=\"372.103125pt\" xmlns=\"http://www.w3.org/2000/svg\" xmlns:xlink=\"http://www.w3.org/1999/xlink\">\r\n <metadata>\r\n  <rdf:RDF xmlns:cc=\"http://creativecommons.org/ns#\" xmlns:dc=\"http://purl.org/dc/elements/1.1/\" xmlns:rdf=\"http://www.w3.org/1999/02/22-rdf-syntax-ns#\">\r\n   <cc:Work>\r\n    <dc:type rdf:resource=\"http://purl.org/dc/dcmitype/StillImage\"/>\r\n    <dc:date>2021-06-18T23:54:02.856600</dc:date>\r\n    <dc:format>image/svg+xml</dc:format>\r\n    <dc:creator>\r\n     <cc:Agent>\r\n      <dc:title>Matplotlib v3.4.2, https://matplotlib.org/</dc:title>\r\n     </cc:Agent>\r\n    </dc:creator>\r\n   </cc:Work>\r\n  </rdf:RDF>\r\n </metadata>\r\n <defs>\r\n  <style type=\"text/css\">*{stroke-linecap:butt;stroke-linejoin:round;}</style>\r\n </defs>\r\n <g id=\"figure_1\">\r\n  <g id=\"patch_1\">\r\n   <path d=\"M 0 263.63625 \r\nL 372.103125 263.63625 \r\nL 372.103125 0 \r\nL 0 0 \r\nz\r\n\" style=\"fill:none;\"/>\r\n  </g>\r\n  <g id=\"axes_1\">\r\n   <g id=\"patch_2\">\r\n    <path d=\"M 30.103125 239.758125 \r\nL 364.903125 239.758125 \r\nL 364.903125 22.318125 \r\nL 30.103125 22.318125 \r\nz\r\n\" style=\"fill:#ffffff;\"/>\r\n   </g>\r\n   <g id=\"matplotlib.axis_1\">\r\n    <g id=\"xtick_1\">\r\n     <g id=\"line2d_1\">\r\n      <defs>\r\n       <path d=\"M 0 0 \r\nL 0 3.5 \r\n\" id=\"mc5e04a30bd\" style=\"stroke:#000000;stroke-width:0.8;\"/>\r\n      </defs>\r\n      <g>\r\n       <use style=\"stroke:#000000;stroke-width:0.8;\" x=\"45.321307\" xlink:href=\"#mc5e04a30bd\" y=\"239.758125\"/>\r\n      </g>\r\n     </g>\r\n     <g id=\"text_1\">\r\n      <!-- 0 -->\r\n      <g transform=\"translate(42.140057 254.356563)scale(0.1 -0.1)\">\r\n       <defs>\r\n        <path d=\"M 2034 4250 \r\nQ 1547 4250 1301 3770 \r\nQ 1056 3291 1056 2328 \r\nQ 1056 1369 1301 889 \r\nQ 1547 409 2034 409 \r\nQ 2525 409 2770 889 \r\nQ 3016 1369 3016 2328 \r\nQ 3016 3291 2770 3770 \r\nQ 2525 4250 2034 4250 \r\nz\r\nM 2034 4750 \r\nQ 2819 4750 3233 4129 \r\nQ 3647 3509 3647 2328 \r\nQ 3647 1150 3233 529 \r\nQ 2819 -91 2034 -91 \r\nQ 1250 -91 836 529 \r\nQ 422 1150 422 2328 \r\nQ 422 3509 836 4129 \r\nQ 1250 4750 2034 4750 \r\nz\r\n\" id=\"DejaVuSans-30\" transform=\"scale(0.015625)\"/>\r\n       </defs>\r\n       <use xlink:href=\"#DejaVuSans-30\"/>\r\n      </g>\r\n     </g>\r\n    </g>\r\n    <g id=\"xtick_2\">\r\n     <g id=\"line2d_2\">\r\n      <g>\r\n       <use style=\"stroke:#000000;stroke-width:0.8;\" x=\"106.194496\" xlink:href=\"#mc5e04a30bd\" y=\"239.758125\"/>\r\n      </g>\r\n     </g>\r\n     <g id=\"text_2\">\r\n      <!-- 20 -->\r\n      <g transform=\"translate(99.831996 254.356563)scale(0.1 -0.1)\">\r\n       <defs>\r\n        <path d=\"M 1228 531 \r\nL 3431 531 \r\nL 3431 0 \r\nL 469 0 \r\nL 469 531 \r\nQ 828 903 1448 1529 \r\nQ 2069 2156 2228 2338 \r\nQ 2531 2678 2651 2914 \r\nQ 2772 3150 2772 3378 \r\nQ 2772 3750 2511 3984 \r\nQ 2250 4219 1831 4219 \r\nQ 1534 4219 1204 4116 \r\nQ 875 4013 500 3803 \r\nL 500 4441 \r\nQ 881 4594 1212 4672 \r\nQ 1544 4750 1819 4750 \r\nQ 2544 4750 2975 4387 \r\nQ 3406 4025 3406 3419 \r\nQ 3406 3131 3298 2873 \r\nQ 3191 2616 2906 2266 \r\nQ 2828 2175 2409 1742 \r\nQ 1991 1309 1228 531 \r\nz\r\n\" id=\"DejaVuSans-32\" transform=\"scale(0.015625)\"/>\r\n       </defs>\r\n       <use xlink:href=\"#DejaVuSans-32\"/>\r\n       <use x=\"63.623047\" xlink:href=\"#DejaVuSans-30\"/>\r\n      </g>\r\n     </g>\r\n    </g>\r\n    <g id=\"xtick_3\">\r\n     <g id=\"line2d_3\">\r\n      <g>\r\n       <use style=\"stroke:#000000;stroke-width:0.8;\" x=\"167.067685\" xlink:href=\"#mc5e04a30bd\" y=\"239.758125\"/>\r\n      </g>\r\n     </g>\r\n     <g id=\"text_3\">\r\n      <!-- 40 -->\r\n      <g transform=\"translate(160.705185 254.356563)scale(0.1 -0.1)\">\r\n       <defs>\r\n        <path d=\"M 2419 4116 \r\nL 825 1625 \r\nL 2419 1625 \r\nL 2419 4116 \r\nz\r\nM 2253 4666 \r\nL 3047 4666 \r\nL 3047 1625 \r\nL 3713 1625 \r\nL 3713 1100 \r\nL 3047 1100 \r\nL 3047 0 \r\nL 2419 0 \r\nL 2419 1100 \r\nL 313 1100 \r\nL 313 1709 \r\nL 2253 4666 \r\nz\r\n\" id=\"DejaVuSans-34\" transform=\"scale(0.015625)\"/>\r\n       </defs>\r\n       <use xlink:href=\"#DejaVuSans-34\"/>\r\n       <use x=\"63.623047\" xlink:href=\"#DejaVuSans-30\"/>\r\n      </g>\r\n     </g>\r\n    </g>\r\n    <g id=\"xtick_4\">\r\n     <g id=\"line2d_4\">\r\n      <g>\r\n       <use style=\"stroke:#000000;stroke-width:0.8;\" x=\"227.940874\" xlink:href=\"#mc5e04a30bd\" y=\"239.758125\"/>\r\n      </g>\r\n     </g>\r\n     <g id=\"text_4\">\r\n      <!-- 60 -->\r\n      <g transform=\"translate(221.578374 254.356563)scale(0.1 -0.1)\">\r\n       <defs>\r\n        <path d=\"M 2113 2584 \r\nQ 1688 2584 1439 2293 \r\nQ 1191 2003 1191 1497 \r\nQ 1191 994 1439 701 \r\nQ 1688 409 2113 409 \r\nQ 2538 409 2786 701 \r\nQ 3034 994 3034 1497 \r\nQ 3034 2003 2786 2293 \r\nQ 2538 2584 2113 2584 \r\nz\r\nM 3366 4563 \r\nL 3366 3988 \r\nQ 3128 4100 2886 4159 \r\nQ 2644 4219 2406 4219 \r\nQ 1781 4219 1451 3797 \r\nQ 1122 3375 1075 2522 \r\nQ 1259 2794 1537 2939 \r\nQ 1816 3084 2150 3084 \r\nQ 2853 3084 3261 2657 \r\nQ 3669 2231 3669 1497 \r\nQ 3669 778 3244 343 \r\nQ 2819 -91 2113 -91 \r\nQ 1303 -91 875 529 \r\nQ 447 1150 447 2328 \r\nQ 447 3434 972 4092 \r\nQ 1497 4750 2381 4750 \r\nQ 2619 4750 2861 4703 \r\nQ 3103 4656 3366 4563 \r\nz\r\n\" id=\"DejaVuSans-36\" transform=\"scale(0.015625)\"/>\r\n       </defs>\r\n       <use xlink:href=\"#DejaVuSans-36\"/>\r\n       <use x=\"63.623047\" xlink:href=\"#DejaVuSans-30\"/>\r\n      </g>\r\n     </g>\r\n    </g>\r\n    <g id=\"xtick_5\">\r\n     <g id=\"line2d_5\">\r\n      <g>\r\n       <use style=\"stroke:#000000;stroke-width:0.8;\" x=\"288.814063\" xlink:href=\"#mc5e04a30bd\" y=\"239.758125\"/>\r\n      </g>\r\n     </g>\r\n     <g id=\"text_5\">\r\n      <!-- 80 -->\r\n      <g transform=\"translate(282.451563 254.356563)scale(0.1 -0.1)\">\r\n       <defs>\r\n        <path d=\"M 2034 2216 \r\nQ 1584 2216 1326 1975 \r\nQ 1069 1734 1069 1313 \r\nQ 1069 891 1326 650 \r\nQ 1584 409 2034 409 \r\nQ 2484 409 2743 651 \r\nQ 3003 894 3003 1313 \r\nQ 3003 1734 2745 1975 \r\nQ 2488 2216 2034 2216 \r\nz\r\nM 1403 2484 \r\nQ 997 2584 770 2862 \r\nQ 544 3141 544 3541 \r\nQ 544 4100 942 4425 \r\nQ 1341 4750 2034 4750 \r\nQ 2731 4750 3128 4425 \r\nQ 3525 4100 3525 3541 \r\nQ 3525 3141 3298 2862 \r\nQ 3072 2584 2669 2484 \r\nQ 3125 2378 3379 2068 \r\nQ 3634 1759 3634 1313 \r\nQ 3634 634 3220 271 \r\nQ 2806 -91 2034 -91 \r\nQ 1263 -91 848 271 \r\nQ 434 634 434 1313 \r\nQ 434 1759 690 2068 \r\nQ 947 2378 1403 2484 \r\nz\r\nM 1172 3481 \r\nQ 1172 3119 1398 2916 \r\nQ 1625 2713 2034 2713 \r\nQ 2441 2713 2670 2916 \r\nQ 2900 3119 2900 3481 \r\nQ 2900 3844 2670 4047 \r\nQ 2441 4250 2034 4250 \r\nQ 1625 4250 1398 4047 \r\nQ 1172 3844 1172 3481 \r\nz\r\n\" id=\"DejaVuSans-38\" transform=\"scale(0.015625)\"/>\r\n       </defs>\r\n       <use xlink:href=\"#DejaVuSans-38\"/>\r\n       <use x=\"63.623047\" xlink:href=\"#DejaVuSans-30\"/>\r\n      </g>\r\n     </g>\r\n    </g>\r\n    <g id=\"xtick_6\">\r\n     <g id=\"line2d_6\">\r\n      <g>\r\n       <use style=\"stroke:#000000;stroke-width:0.8;\" x=\"349.687252\" xlink:href=\"#mc5e04a30bd\" y=\"239.758125\"/>\r\n      </g>\r\n     </g>\r\n     <g id=\"text_6\">\r\n      <!-- 100 -->\r\n      <g transform=\"translate(340.143502 254.356563)scale(0.1 -0.1)\">\r\n       <defs>\r\n        <path d=\"M 794 531 \r\nL 1825 531 \r\nL 1825 4091 \r\nL 703 3866 \r\nL 703 4441 \r\nL 1819 4666 \r\nL 2450 4666 \r\nL 2450 531 \r\nL 3481 531 \r\nL 3481 0 \r\nL 794 0 \r\nL 794 531 \r\nz\r\n\" id=\"DejaVuSans-31\" transform=\"scale(0.015625)\"/>\r\n       </defs>\r\n       <use xlink:href=\"#DejaVuSans-31\"/>\r\n       <use x=\"63.623047\" xlink:href=\"#DejaVuSans-30\"/>\r\n       <use x=\"127.246094\" xlink:href=\"#DejaVuSans-30\"/>\r\n      </g>\r\n     </g>\r\n    </g>\r\n   </g>\r\n   <g id=\"matplotlib.axis_2\">\r\n    <g id=\"ytick_1\">\r\n     <g id=\"line2d_7\">\r\n      <defs>\r\n       <path d=\"M 0 0 \r\nL -3.5 0 \r\n\" id=\"m75838542a8\" style=\"stroke:#000000;stroke-width:0.8;\"/>\r\n      </defs>\r\n      <g>\r\n       <use style=\"stroke:#000000;stroke-width:0.8;\" x=\"30.103125\" xlink:href=\"#m75838542a8\" y=\"228.783664\"/>\r\n      </g>\r\n     </g>\r\n     <g id=\"text_7\">\r\n      <!-- 2.7 -->\r\n      <g transform=\"translate(7.2 232.582882)scale(0.1 -0.1)\">\r\n       <defs>\r\n        <path d=\"M 684 794 \r\nL 1344 794 \r\nL 1344 0 \r\nL 684 0 \r\nL 684 794 \r\nz\r\n\" id=\"DejaVuSans-2e\" transform=\"scale(0.015625)\"/>\r\n        <path d=\"M 525 4666 \r\nL 3525 4666 \r\nL 3525 4397 \r\nL 1831 0 \r\nL 1172 0 \r\nL 2766 4134 \r\nL 525 4134 \r\nL 525 4666 \r\nz\r\n\" id=\"DejaVuSans-37\" transform=\"scale(0.015625)\"/>\r\n       </defs>\r\n       <use xlink:href=\"#DejaVuSans-32\"/>\r\n       <use x=\"63.623047\" xlink:href=\"#DejaVuSans-2e\"/>\r\n       <use x=\"95.410156\" xlink:href=\"#DejaVuSans-37\"/>\r\n      </g>\r\n     </g>\r\n    </g>\r\n    <g id=\"ytick_2\">\r\n     <g id=\"line2d_8\">\r\n      <g>\r\n       <use style=\"stroke:#000000;stroke-width:0.8;\" x=\"30.103125\" xlink:href=\"#m75838542a8\" y=\"198.468341\"/>\r\n      </g>\r\n     </g>\r\n     <g id=\"text_8\">\r\n      <!-- 2.8 -->\r\n      <g transform=\"translate(7.2 202.26756)scale(0.1 -0.1)\">\r\n       <use xlink:href=\"#DejaVuSans-32\"/>\r\n       <use x=\"63.623047\" xlink:href=\"#DejaVuSans-2e\"/>\r\n       <use x=\"95.410156\" xlink:href=\"#DejaVuSans-38\"/>\r\n      </g>\r\n     </g>\r\n    </g>\r\n    <g id=\"ytick_3\">\r\n     <g id=\"line2d_9\">\r\n      <g>\r\n       <use style=\"stroke:#000000;stroke-width:0.8;\" x=\"30.103125\" xlink:href=\"#m75838542a8\" y=\"168.153018\"/>\r\n      </g>\r\n     </g>\r\n     <g id=\"text_9\">\r\n      <!-- 2.9 -->\r\n      <g transform=\"translate(7.2 171.952237)scale(0.1 -0.1)\">\r\n       <defs>\r\n        <path d=\"M 703 97 \r\nL 703 672 \r\nQ 941 559 1184 500 \r\nQ 1428 441 1663 441 \r\nQ 2288 441 2617 861 \r\nQ 2947 1281 2994 2138 \r\nQ 2813 1869 2534 1725 \r\nQ 2256 1581 1919 1581 \r\nQ 1219 1581 811 2004 \r\nQ 403 2428 403 3163 \r\nQ 403 3881 828 4315 \r\nQ 1253 4750 1959 4750 \r\nQ 2769 4750 3195 4129 \r\nQ 3622 3509 3622 2328 \r\nQ 3622 1225 3098 567 \r\nQ 2575 -91 1691 -91 \r\nQ 1453 -91 1209 -44 \r\nQ 966 3 703 97 \r\nz\r\nM 1959 2075 \r\nQ 2384 2075 2632 2365 \r\nQ 2881 2656 2881 3163 \r\nQ 2881 3666 2632 3958 \r\nQ 2384 4250 1959 4250 \r\nQ 1534 4250 1286 3958 \r\nQ 1038 3666 1038 3163 \r\nQ 1038 2656 1286 2365 \r\nQ 1534 2075 1959 2075 \r\nz\r\n\" id=\"DejaVuSans-39\" transform=\"scale(0.015625)\"/>\r\n       </defs>\r\n       <use xlink:href=\"#DejaVuSans-32\"/>\r\n       <use x=\"63.623047\" xlink:href=\"#DejaVuSans-2e\"/>\r\n       <use x=\"95.410156\" xlink:href=\"#DejaVuSans-39\"/>\r\n      </g>\r\n     </g>\r\n    </g>\r\n    <g id=\"ytick_4\">\r\n     <g id=\"line2d_10\">\r\n      <g>\r\n       <use style=\"stroke:#000000;stroke-width:0.8;\" x=\"30.103125\" xlink:href=\"#m75838542a8\" y=\"137.837695\"/>\r\n      </g>\r\n     </g>\r\n     <g id=\"text_10\">\r\n      <!-- 3.0 -->\r\n      <g transform=\"translate(7.2 141.636914)scale(0.1 -0.1)\">\r\n       <defs>\r\n        <path d=\"M 2597 2516 \r\nQ 3050 2419 3304 2112 \r\nQ 3559 1806 3559 1356 \r\nQ 3559 666 3084 287 \r\nQ 2609 -91 1734 -91 \r\nQ 1441 -91 1130 -33 \r\nQ 819 25 488 141 \r\nL 488 750 \r\nQ 750 597 1062 519 \r\nQ 1375 441 1716 441 \r\nQ 2309 441 2620 675 \r\nQ 2931 909 2931 1356 \r\nQ 2931 1769 2642 2001 \r\nQ 2353 2234 1838 2234 \r\nL 1294 2234 \r\nL 1294 2753 \r\nL 1863 2753 \r\nQ 2328 2753 2575 2939 \r\nQ 2822 3125 2822 3475 \r\nQ 2822 3834 2567 4026 \r\nQ 2313 4219 1838 4219 \r\nQ 1578 4219 1281 4162 \r\nQ 984 4106 628 3988 \r\nL 628 4550 \r\nQ 988 4650 1302 4700 \r\nQ 1616 4750 1894 4750 \r\nQ 2613 4750 3031 4423 \r\nQ 3450 4097 3450 3541 \r\nQ 3450 3153 3228 2886 \r\nQ 3006 2619 2597 2516 \r\nz\r\n\" id=\"DejaVuSans-33\" transform=\"scale(0.015625)\"/>\r\n       </defs>\r\n       <use xlink:href=\"#DejaVuSans-33\"/>\r\n       <use x=\"63.623047\" xlink:href=\"#DejaVuSans-2e\"/>\r\n       <use x=\"95.410156\" xlink:href=\"#DejaVuSans-30\"/>\r\n      </g>\r\n     </g>\r\n    </g>\r\n    <g id=\"ytick_5\">\r\n     <g id=\"line2d_11\">\r\n      <g>\r\n       <use style=\"stroke:#000000;stroke-width:0.8;\" x=\"30.103125\" xlink:href=\"#m75838542a8\" y=\"107.522372\"/>\r\n      </g>\r\n     </g>\r\n     <g id=\"text_11\">\r\n      <!-- 3.1 -->\r\n      <g transform=\"translate(7.2 111.321591)scale(0.1 -0.1)\">\r\n       <use xlink:href=\"#DejaVuSans-33\"/>\r\n       <use x=\"63.623047\" xlink:href=\"#DejaVuSans-2e\"/>\r\n       <use x=\"95.410156\" xlink:href=\"#DejaVuSans-31\"/>\r\n      </g>\r\n     </g>\r\n    </g>\r\n    <g id=\"ytick_6\">\r\n     <g id=\"line2d_12\">\r\n      <g>\r\n       <use style=\"stroke:#000000;stroke-width:0.8;\" x=\"30.103125\" xlink:href=\"#m75838542a8\" y=\"77.207049\"/>\r\n      </g>\r\n     </g>\r\n     <g id=\"text_12\">\r\n      <!-- 3.2 -->\r\n      <g transform=\"translate(7.2 81.006268)scale(0.1 -0.1)\">\r\n       <use xlink:href=\"#DejaVuSans-33\"/>\r\n       <use x=\"63.623047\" xlink:href=\"#DejaVuSans-2e\"/>\r\n       <use x=\"95.410156\" xlink:href=\"#DejaVuSans-32\"/>\r\n      </g>\r\n     </g>\r\n    </g>\r\n    <g id=\"ytick_7\">\r\n     <g id=\"line2d_13\">\r\n      <g>\r\n       <use style=\"stroke:#000000;stroke-width:0.8;\" x=\"30.103125\" xlink:href=\"#m75838542a8\" y=\"46.891726\"/>\r\n      </g>\r\n     </g>\r\n     <g id=\"text_13\">\r\n      <!-- 3.3 -->\r\n      <g transform=\"translate(7.2 50.690945)scale(0.1 -0.1)\">\r\n       <use xlink:href=\"#DejaVuSans-33\"/>\r\n       <use x=\"63.623047\" xlink:href=\"#DejaVuSans-2e\"/>\r\n       <use x=\"95.410156\" xlink:href=\"#DejaVuSans-33\"/>\r\n      </g>\r\n     </g>\r\n    </g>\r\n   </g>\r\n   <g id=\"line2d_14\">\r\n    <path clip-path=\"url(#p6f04cb97e4)\" d=\"M 45.321307 32.201761 \r\nL 48.072316 33.105826 \r\nL 50.834315 34.930025 \r\nL 53.607137 36.774462 \r\nL 56.39062 38.637258 \r\nL 59.184605 40.51757 \r\nL 61.988934 42.414586 \r\nL 64.80345 44.327517 \r\nL 67.627999 46.255604 \r\nL 70.462425 48.198109 \r\nL 73.306576 50.154319 \r\nL 76.160301 52.123547 \r\nL 79.023448 54.105125 \r\nL 81.89587 56.098407 \r\nL 84.777417 58.102768 \r\nL 87.667943 60.117602 \r\nL 90.567303 62.142325 \r\nL 93.475352 64.176367 \r\nL 96.391946 66.219178 \r\nL 99.316945 68.270227 \r\nL 102.250206 70.330887 \r\nL 105.191578 72.396931 \r\nL 108.140945 74.467799 \r\nL 111.098158 76.546782 \r\nL 114.06308 78.631573 \r\nL 117.035576 80.72173 \r\nL 120.015511 82.816825 \r\nL 123.002751 84.916442 \r\nL 125.997164 87.020178 \r\nL 128.998618 89.127727 \r\nL 132.006982 91.23864 \r\nL 135.022126 93.355704 \r\nL 138.043902 95.472079 \r\nL 141.072224 97.588215 \r\nL 144.106938 99.70882 \r\nL 147.147928 101.830237 \r\nL 150.195066 103.953726 \r\nL 153.248226 106.078312 \r\nL 156.307285 108.203597 \r\nL 159.372122 110.329139 \r\nL 162.442614 112.454749 \r\nL 165.518642 114.580177 \r\nL 168.600086 116.705152 \r\nL 171.686827 118.829412 \r\nL 174.778748 120.952702 \r\nL 177.875731 123.074773 \r\nL 180.97766 125.195384 \r\nL 184.08442 127.314299 \r\nL 187.195895 129.431287 \r\nL 190.311973 131.546125 \r\nL 193.432541 133.658594 \r\nL 196.557485 135.768483 \r\nL 199.686695 137.87207 \r\nL 202.820085 139.977312 \r\nL 205.957487 142.080797 \r\nL 209.09884 144.178041 \r\nL 212.244008 146.27239 \r\nL 215.392906 148.363525 \r\nL 218.545401 150.44854 \r\nL 221.701429 152.532749 \r\nL 224.860818 154.60879 \r\nL 228.023558 156.679131 \r\nL 231.189459 158.751317 \r\nL 234.358459 160.814422 \r\nL 237.530444 162.874401 \r\nL 240.70531 164.927972 \r\nL 243.882968 166.976067 \r\nL 247.063307 169.019955 \r\nL 250.24623 171.057828 \r\nL 253.431638 173.089896 \r\nL 256.619434 175.11613 \r\nL 259.809519 177.136349 \r\nL 263.001796 179.150521 \r\nL 266.19617 181.15851 \r\nL 269.392543 183.160123 \r\nL 272.590821 185.155142 \r\nL 275.790911 187.143578 \r\nL 278.992717 189.125597 \r\nL 282.196145 191.099968 \r\nL 285.401109 193.067402 \r\nL 288.60751 195.028499 \r\nL 291.815259 196.985462 \r\nL 295.024239 198.931435 \r\nL 298.234414 200.866037 \r\nL 301.445669 202.794601 \r\nL 304.65793 204.717231 \r\nL 307.871081 206.636663 \r\nL 311.085026 208.546413 \r\nL 314.2997 210.444437 \r\nL 317.515022 212.331292 \r\nL 320.730925 214.213709 \r\nL 323.947276 216.0913 \r\nL 327.16401 217.957667 \r\nL 330.381044 219.815658 \r\nL 333.598293 221.663722 \r\nL 336.815684 223.503811 \r\nL 340.033118 225.334453 \r\nL 343.250535 227.155717 \r\nL 346.467835 228.969433 \r\nL 349.684943 229.874489 \r\n\" style=\"fill:none;stroke:#1f77b4;stroke-linecap:square;stroke-width:1.5;\"/>\r\n   </g>\r\n   <g id=\"patch_3\">\r\n    <path d=\"M 30.103125 239.758125 \r\nL 30.103125 22.318125 \r\n\" style=\"fill:none;stroke:#000000;stroke-linecap:square;stroke-linejoin:miter;stroke-width:0.8;\"/>\r\n   </g>\r\n   <g id=\"patch_4\">\r\n    <path d=\"M 364.903125 239.758125 \r\nL 364.903125 22.318125 \r\n\" style=\"fill:none;stroke:#000000;stroke-linecap:square;stroke-linejoin:miter;stroke-width:0.8;\"/>\r\n   </g>\r\n   <g id=\"patch_5\">\r\n    <path d=\"M 30.103125 239.758125 \r\nL 364.903125 239.758125 \r\n\" style=\"fill:none;stroke:#000000;stroke-linecap:square;stroke-linejoin:miter;stroke-width:0.8;\"/>\r\n   </g>\r\n   <g id=\"patch_6\">\r\n    <path d=\"M 30.103125 22.318125 \r\nL 364.903125 22.318125 \r\n\" style=\"fill:none;stroke:#000000;stroke-linecap:square;stroke-linejoin:miter;stroke-width:0.8;\"/>\r\n   </g>\r\n   <g id=\"text_14\">\r\n    <!-- Leverage Ratio -->\r\n    <g transform=\"translate(152.3775 16.318125)scale(0.12 -0.12)\">\r\n     <defs>\r\n      <path d=\"M 628 4666 \r\nL 1259 4666 \r\nL 1259 531 \r\nL 3531 531 \r\nL 3531 0 \r\nL 628 0 \r\nL 628 4666 \r\nz\r\n\" id=\"DejaVuSans-4c\" transform=\"scale(0.015625)\"/>\r\n      <path d=\"M 3597 1894 \r\nL 3597 1613 \r\nL 953 1613 \r\nQ 991 1019 1311 708 \r\nQ 1631 397 2203 397 \r\nQ 2534 397 2845 478 \r\nQ 3156 559 3463 722 \r\nL 3463 178 \r\nQ 3153 47 2828 -22 \r\nQ 2503 -91 2169 -91 \r\nQ 1331 -91 842 396 \r\nQ 353 884 353 1716 \r\nQ 353 2575 817 3079 \r\nQ 1281 3584 2069 3584 \r\nQ 2775 3584 3186 3129 \r\nQ 3597 2675 3597 1894 \r\nz\r\nM 3022 2063 \r\nQ 3016 2534 2758 2815 \r\nQ 2500 3097 2075 3097 \r\nQ 1594 3097 1305 2825 \r\nQ 1016 2553 972 2059 \r\nL 3022 2063 \r\nz\r\n\" id=\"DejaVuSans-65\" transform=\"scale(0.015625)\"/>\r\n      <path d=\"M 191 3500 \r\nL 800 3500 \r\nL 1894 563 \r\nL 2988 3500 \r\nL 3597 3500 \r\nL 2284 0 \r\nL 1503 0 \r\nL 191 3500 \r\nz\r\n\" id=\"DejaVuSans-76\" transform=\"scale(0.015625)\"/>\r\n      <path d=\"M 2631 2963 \r\nQ 2534 3019 2420 3045 \r\nQ 2306 3072 2169 3072 \r\nQ 1681 3072 1420 2755 \r\nQ 1159 2438 1159 1844 \r\nL 1159 0 \r\nL 581 0 \r\nL 581 3500 \r\nL 1159 3500 \r\nL 1159 2956 \r\nQ 1341 3275 1631 3429 \r\nQ 1922 3584 2338 3584 \r\nQ 2397 3584 2469 3576 \r\nQ 2541 3569 2628 3553 \r\nL 2631 2963 \r\nz\r\n\" id=\"DejaVuSans-72\" transform=\"scale(0.015625)\"/>\r\n      <path d=\"M 2194 1759 \r\nQ 1497 1759 1228 1600 \r\nQ 959 1441 959 1056 \r\nQ 959 750 1161 570 \r\nQ 1363 391 1709 391 \r\nQ 2188 391 2477 730 \r\nQ 2766 1069 2766 1631 \r\nL 2766 1759 \r\nL 2194 1759 \r\nz\r\nM 3341 1997 \r\nL 3341 0 \r\nL 2766 0 \r\nL 2766 531 \r\nQ 2569 213 2275 61 \r\nQ 1981 -91 1556 -91 \r\nQ 1019 -91 701 211 \r\nQ 384 513 384 1019 \r\nQ 384 1609 779 1909 \r\nQ 1175 2209 1959 2209 \r\nL 2766 2209 \r\nL 2766 2266 \r\nQ 2766 2663 2505 2880 \r\nQ 2244 3097 1772 3097 \r\nQ 1472 3097 1187 3025 \r\nQ 903 2953 641 2809 \r\nL 641 3341 \r\nQ 956 3463 1253 3523 \r\nQ 1550 3584 1831 3584 \r\nQ 2591 3584 2966 3190 \r\nQ 3341 2797 3341 1997 \r\nz\r\n\" id=\"DejaVuSans-61\" transform=\"scale(0.015625)\"/>\r\n      <path d=\"M 2906 1791 \r\nQ 2906 2416 2648 2759 \r\nQ 2391 3103 1925 3103 \r\nQ 1463 3103 1205 2759 \r\nQ 947 2416 947 1791 \r\nQ 947 1169 1205 825 \r\nQ 1463 481 1925 481 \r\nQ 2391 481 2648 825 \r\nQ 2906 1169 2906 1791 \r\nz\r\nM 3481 434 \r\nQ 3481 -459 3084 -895 \r\nQ 2688 -1331 1869 -1331 \r\nQ 1566 -1331 1297 -1286 \r\nQ 1028 -1241 775 -1147 \r\nL 775 -588 \r\nQ 1028 -725 1275 -790 \r\nQ 1522 -856 1778 -856 \r\nQ 2344 -856 2625 -561 \r\nQ 2906 -266 2906 331 \r\nL 2906 616 \r\nQ 2728 306 2450 153 \r\nQ 2172 0 1784 0 \r\nQ 1141 0 747 490 \r\nQ 353 981 353 1791 \r\nQ 353 2603 747 3093 \r\nQ 1141 3584 1784 3584 \r\nQ 2172 3584 2450 3431 \r\nQ 2728 3278 2906 2969 \r\nL 2906 3500 \r\nL 3481 3500 \r\nL 3481 434 \r\nz\r\n\" id=\"DejaVuSans-67\" transform=\"scale(0.015625)\"/>\r\n      <path id=\"DejaVuSans-20\" transform=\"scale(0.015625)\"/>\r\n      <path d=\"M 2841 2188 \r\nQ 3044 2119 3236 1894 \r\nQ 3428 1669 3622 1275 \r\nL 4263 0 \r\nL 3584 0 \r\nL 2988 1197 \r\nQ 2756 1666 2539 1819 \r\nQ 2322 1972 1947 1972 \r\nL 1259 1972 \r\nL 1259 0 \r\nL 628 0 \r\nL 628 4666 \r\nL 2053 4666 \r\nQ 2853 4666 3247 4331 \r\nQ 3641 3997 3641 3322 \r\nQ 3641 2881 3436 2590 \r\nQ 3231 2300 2841 2188 \r\nz\r\nM 1259 4147 \r\nL 1259 2491 \r\nL 2053 2491 \r\nQ 2509 2491 2742 2702 \r\nQ 2975 2913 2975 3322 \r\nQ 2975 3731 2742 3939 \r\nQ 2509 4147 2053 4147 \r\nL 1259 4147 \r\nz\r\n\" id=\"DejaVuSans-52\" transform=\"scale(0.015625)\"/>\r\n      <path d=\"M 1172 4494 \r\nL 1172 3500 \r\nL 2356 3500 \r\nL 2356 3053 \r\nL 1172 3053 \r\nL 1172 1153 \r\nQ 1172 725 1289 603 \r\nQ 1406 481 1766 481 \r\nL 2356 481 \r\nL 2356 0 \r\nL 1766 0 \r\nQ 1100 0 847 248 \r\nQ 594 497 594 1153 \r\nL 594 3053 \r\nL 172 3053 \r\nL 172 3500 \r\nL 594 3500 \r\nL 594 4494 \r\nL 1172 4494 \r\nz\r\n\" id=\"DejaVuSans-74\" transform=\"scale(0.015625)\"/>\r\n      <path d=\"M 603 3500 \r\nL 1178 3500 \r\nL 1178 0 \r\nL 603 0 \r\nL 603 3500 \r\nz\r\nM 603 4863 \r\nL 1178 4863 \r\nL 1178 4134 \r\nL 603 4134 \r\nL 603 4863 \r\nz\r\n\" id=\"DejaVuSans-69\" transform=\"scale(0.015625)\"/>\r\n      <path d=\"M 1959 3097 \r\nQ 1497 3097 1228 2736 \r\nQ 959 2375 959 1747 \r\nQ 959 1119 1226 758 \r\nQ 1494 397 1959 397 \r\nQ 2419 397 2687 759 \r\nQ 2956 1122 2956 1747 \r\nQ 2956 2369 2687 2733 \r\nQ 2419 3097 1959 3097 \r\nz\r\nM 1959 3584 \r\nQ 2709 3584 3137 3096 \r\nQ 3566 2609 3566 1747 \r\nQ 3566 888 3137 398 \r\nQ 2709 -91 1959 -91 \r\nQ 1206 -91 779 398 \r\nQ 353 888 353 1747 \r\nQ 353 2609 779 3096 \r\nQ 1206 3584 1959 3584 \r\nz\r\n\" id=\"DejaVuSans-6f\" transform=\"scale(0.015625)\"/>\r\n     </defs>\r\n     <use xlink:href=\"#DejaVuSans-4c\"/>\r\n     <use x=\"53.962891\" xlink:href=\"#DejaVuSans-65\"/>\r\n     <use x=\"115.486328\" xlink:href=\"#DejaVuSans-76\"/>\r\n     <use x=\"174.666016\" xlink:href=\"#DejaVuSans-65\"/>\r\n     <use x=\"236.189453\" xlink:href=\"#DejaVuSans-72\"/>\r\n     <use x=\"277.302734\" xlink:href=\"#DejaVuSans-61\"/>\r\n     <use x=\"338.582031\" xlink:href=\"#DejaVuSans-67\"/>\r\n     <use x=\"402.058594\" xlink:href=\"#DejaVuSans-65\"/>\r\n     <use x=\"463.582031\" xlink:href=\"#DejaVuSans-20\"/>\r\n     <use x=\"495.369141\" xlink:href=\"#DejaVuSans-52\"/>\r\n     <use x=\"562.601562\" xlink:href=\"#DejaVuSans-61\"/>\r\n     <use x=\"623.880859\" xlink:href=\"#DejaVuSans-74\"/>\r\n     <use x=\"663.089844\" xlink:href=\"#DejaVuSans-69\"/>\r\n     <use x=\"690.873047\" xlink:href=\"#DejaVuSans-6f\"/>\r\n    </g>\r\n   </g>\r\n  </g>\r\n </g>\r\n <defs>\r\n  <clipPath id=\"p6f04cb97e4\">\r\n   <rect height=\"217.44\" width=\"334.8\" x=\"30.103125\" y=\"22.318125\"/>\r\n  </clipPath>\r\n </defs>\r\n</svg>\r\n",
      "image/png": "[encoded data removed]"
     },
     "metadata": {
      "needs_background": "light"
     }
    }
   ],
   "source": [
    "#%%prun -s tottime -l 10\n",
    "show_leverage_ratio(horst_example)"
   ]
  },
  {
   "cell_type": "code",
   "execution_count": 8,
   "id": "super-fever",
   "metadata": {
    "scrolled": true
   },
   "outputs": [
    {
     "output_type": "display_data",
     "data": {
      "text/plain": "<Figure size 684x432 with 1 Axes>",
      "image/svg+xml": "<?xml version=\"1.0\" encoding=\"utf-8\" standalone=\"no\"?>\r\n<!DOCTYPE svg PUBLIC \"-//W3C//DTD SVG 1.1//EN\"\r\n  \"http://www.w3.org/Graphics/SVG/1.1/DTD/svg11.dtd\">\r\n<svg height=\"372.35625pt\" version=\"1.1\" viewBox=\"0 0 570.5875 372.35625\" width=\"570.5875pt\" xmlns=\"http://www.w3.org/2000/svg\" xmlns:xlink=\"http://www.w3.org/1999/xlink\">\r\n <metadata>\r\n  <rdf:RDF xmlns:cc=\"http://creativecommons.org/ns#\" xmlns:dc=\"http://purl.org/dc/elements/1.1/\" xmlns:rdf=\"http://www.w3.org/1999/02/22-rdf-syntax-ns#\">\r\n   <cc:Work>\r\n    <dc:type rdf:resource=\"http://purl.org/dc/dcmitype/StillImage\"/>\r\n    <dc:date>2021-06-18T23:54:07.607891</dc:date>\r\n    <dc:format>image/svg+xml</dc:format>\r\n    <dc:creator>\r\n     <cc:Agent>\r\n      <dc:title>Matplotlib v3.4.2, https://matplotlib.org/</dc:title>\r\n     </cc:Agent>\r\n    </dc:creator>\r\n   </cc:Work>\r\n  </rdf:RDF>\r\n </metadata>\r\n <defs>\r\n  <style type=\"text/css\">*{stroke-linecap:butt;stroke-linejoin:round;}</style>\r\n </defs>\r\n <g id=\"figure_1\">\r\n  <g id=\"patch_1\">\r\n   <path d=\"M 0 372.35625 \r\nL 570.5875 372.35625 \r\nL 570.5875 0 \r\nL 0 0 \r\nz\r\n\" style=\"fill:none;\"/>\r\n  </g>\r\n  <g id=\"axes_1\">\r\n   <g id=\"patch_2\">\r\n    <path d=\"M 33.2875 348.478125 \r\nL 563.3875 348.478125 \r\nL 563.3875 22.318125 \r\nL 33.2875 22.318125 \r\nz\r\n\" style=\"fill:#ffffff;\"/>\r\n   </g>\r\n   <g id=\"matplotlib.axis_1\">\r\n    <g id=\"xtick_1\">\r\n     <g id=\"line2d_1\">\r\n      <defs>\r\n       <path d=\"M 0 0 \r\nL 0 3.5 \r\n\" id=\"m2661d1fa1a\" style=\"stroke:#000000;stroke-width:0.8;\"/>\r\n      </defs>\r\n      <g>\r\n       <use style=\"stroke:#000000;stroke-width:0.8;\" x=\"57.382955\" xlink:href=\"#m2661d1fa1a\" y=\"348.478125\"/>\r\n      </g>\r\n     </g>\r\n     <g id=\"text_1\">\r\n      <!-- 0 -->\r\n      <g transform=\"translate(54.201705 363.076563)scale(0.1 -0.1)\">\r\n       <defs>\r\n        <path d=\"M 2034 4250 \r\nQ 1547 4250 1301 3770 \r\nQ 1056 3291 1056 2328 \r\nQ 1056 1369 1301 889 \r\nQ 1547 409 2034 409 \r\nQ 2525 409 2770 889 \r\nQ 3016 1369 3016 2328 \r\nQ 3016 3291 2770 3770 \r\nQ 2525 4250 2034 4250 \r\nz\r\nM 2034 4750 \r\nQ 2819 4750 3233 4129 \r\nQ 3647 3509 3647 2328 \r\nQ 3647 1150 3233 529 \r\nQ 2819 -91 2034 -91 \r\nQ 1250 -91 836 529 \r\nQ 422 1150 422 2328 \r\nQ 422 3509 836 4129 \r\nQ 1250 4750 2034 4750 \r\nz\r\n\" id=\"DejaVuSans-30\" transform=\"scale(0.015625)\"/>\r\n       </defs>\r\n       <use xlink:href=\"#DejaVuSans-30\"/>\r\n      </g>\r\n     </g>\r\n    </g>\r\n    <g id=\"xtick_2\">\r\n     <g id=\"line2d_2\">\r\n      <g>\r\n       <use style=\"stroke:#000000;stroke-width:0.8;\" x=\"153.765504\" xlink:href=\"#m2661d1fa1a\" y=\"348.478125\"/>\r\n      </g>\r\n     </g>\r\n     <g id=\"text_2\">\r\n      <!-- 20 -->\r\n      <g transform=\"translate(147.403004 363.076563)scale(0.1 -0.1)\">\r\n       <defs>\r\n        <path d=\"M 1228 531 \r\nL 3431 531 \r\nL 3431 0 \r\nL 469 0 \r\nL 469 531 \r\nQ 828 903 1448 1529 \r\nQ 2069 2156 2228 2338 \r\nQ 2531 2678 2651 2914 \r\nQ 2772 3150 2772 3378 \r\nQ 2772 3750 2511 3984 \r\nQ 2250 4219 1831 4219 \r\nQ 1534 4219 1204 4116 \r\nQ 875 4013 500 3803 \r\nL 500 4441 \r\nQ 881 4594 1212 4672 \r\nQ 1544 4750 1819 4750 \r\nQ 2544 4750 2975 4387 \r\nQ 3406 4025 3406 3419 \r\nQ 3406 3131 3298 2873 \r\nQ 3191 2616 2906 2266 \r\nQ 2828 2175 2409 1742 \r\nQ 1991 1309 1228 531 \r\nz\r\n\" id=\"DejaVuSans-32\" transform=\"scale(0.015625)\"/>\r\n       </defs>\r\n       <use xlink:href=\"#DejaVuSans-32\"/>\r\n       <use x=\"63.623047\" xlink:href=\"#DejaVuSans-30\"/>\r\n      </g>\r\n     </g>\r\n    </g>\r\n    <g id=\"xtick_3\">\r\n     <g id=\"line2d_3\">\r\n      <g>\r\n       <use style=\"stroke:#000000;stroke-width:0.8;\" x=\"250.148053\" xlink:href=\"#m2661d1fa1a\" y=\"348.478125\"/>\r\n      </g>\r\n     </g>\r\n     <g id=\"text_3\">\r\n      <!-- 40 -->\r\n      <g transform=\"translate(243.785553 363.076563)scale(0.1 -0.1)\">\r\n       <defs>\r\n        <path d=\"M 2419 4116 \r\nL 825 1625 \r\nL 2419 1625 \r\nL 2419 4116 \r\nz\r\nM 2253 4666 \r\nL 3047 4666 \r\nL 3047 1625 \r\nL 3713 1625 \r\nL 3713 1100 \r\nL 3047 1100 \r\nL 3047 0 \r\nL 2419 0 \r\nL 2419 1100 \r\nL 313 1100 \r\nL 313 1709 \r\nL 2253 4666 \r\nz\r\n\" id=\"DejaVuSans-34\" transform=\"scale(0.015625)\"/>\r\n       </defs>\r\n       <use xlink:href=\"#DejaVuSans-34\"/>\r\n       <use x=\"63.623047\" xlink:href=\"#DejaVuSans-30\"/>\r\n      </g>\r\n     </g>\r\n    </g>\r\n    <g id=\"xtick_4\">\r\n     <g id=\"line2d_4\">\r\n      <g>\r\n       <use style=\"stroke:#000000;stroke-width:0.8;\" x=\"346.530603\" xlink:href=\"#m2661d1fa1a\" y=\"348.478125\"/>\r\n      </g>\r\n     </g>\r\n     <g id=\"text_4\">\r\n      <!-- 60 -->\r\n      <g transform=\"translate(340.168103 363.076563)scale(0.1 -0.1)\">\r\n       <defs>\r\n        <path d=\"M 2113 2584 \r\nQ 1688 2584 1439 2293 \r\nQ 1191 2003 1191 1497 \r\nQ 1191 994 1439 701 \r\nQ 1688 409 2113 409 \r\nQ 2538 409 2786 701 \r\nQ 3034 994 3034 1497 \r\nQ 3034 2003 2786 2293 \r\nQ 2538 2584 2113 2584 \r\nz\r\nM 3366 4563 \r\nL 3366 3988 \r\nQ 3128 4100 2886 4159 \r\nQ 2644 4219 2406 4219 \r\nQ 1781 4219 1451 3797 \r\nQ 1122 3375 1075 2522 \r\nQ 1259 2794 1537 2939 \r\nQ 1816 3084 2150 3084 \r\nQ 2853 3084 3261 2657 \r\nQ 3669 2231 3669 1497 \r\nQ 3669 778 3244 343 \r\nQ 2819 -91 2113 -91 \r\nQ 1303 -91 875 529 \r\nQ 447 1150 447 2328 \r\nQ 447 3434 972 4092 \r\nQ 1497 4750 2381 4750 \r\nQ 2619 4750 2861 4703 \r\nQ 3103 4656 3366 4563 \r\nz\r\n\" id=\"DejaVuSans-36\" transform=\"scale(0.015625)\"/>\r\n       </defs>\r\n       <use xlink:href=\"#DejaVuSans-36\"/>\r\n       <use x=\"63.623047\" xlink:href=\"#DejaVuSans-30\"/>\r\n      </g>\r\n     </g>\r\n    </g>\r\n    <g id=\"xtick_5\">\r\n     <g id=\"line2d_5\">\r\n      <g>\r\n       <use style=\"stroke:#000000;stroke-width:0.8;\" x=\"442.913152\" xlink:href=\"#m2661d1fa1a\" y=\"348.478125\"/>\r\n      </g>\r\n     </g>\r\n     <g id=\"text_5\">\r\n      <!-- 80 -->\r\n      <g transform=\"translate(436.550652 363.076563)scale(0.1 -0.1)\">\r\n       <defs>\r\n        <path d=\"M 2034 2216 \r\nQ 1584 2216 1326 1975 \r\nQ 1069 1734 1069 1313 \r\nQ 1069 891 1326 650 \r\nQ 1584 409 2034 409 \r\nQ 2484 409 2743 651 \r\nQ 3003 894 3003 1313 \r\nQ 3003 1734 2745 1975 \r\nQ 2488 2216 2034 2216 \r\nz\r\nM 1403 2484 \r\nQ 997 2584 770 2862 \r\nQ 544 3141 544 3541 \r\nQ 544 4100 942 4425 \r\nQ 1341 4750 2034 4750 \r\nQ 2731 4750 3128 4425 \r\nQ 3525 4100 3525 3541 \r\nQ 3525 3141 3298 2862 \r\nQ 3072 2584 2669 2484 \r\nQ 3125 2378 3379 2068 \r\nQ 3634 1759 3634 1313 \r\nQ 3634 634 3220 271 \r\nQ 2806 -91 2034 -91 \r\nQ 1263 -91 848 271 \r\nQ 434 634 434 1313 \r\nQ 434 1759 690 2068 \r\nQ 947 2378 1403 2484 \r\nz\r\nM 1172 3481 \r\nQ 1172 3119 1398 2916 \r\nQ 1625 2713 2034 2713 \r\nQ 2441 2713 2670 2916 \r\nQ 2900 3119 2900 3481 \r\nQ 2900 3844 2670 4047 \r\nQ 2441 4250 2034 4250 \r\nQ 1625 4250 1398 4047 \r\nQ 1172 3844 1172 3481 \r\nz\r\n\" id=\"DejaVuSans-38\" transform=\"scale(0.015625)\"/>\r\n       </defs>\r\n       <use xlink:href=\"#DejaVuSans-38\"/>\r\n       <use x=\"63.623047\" xlink:href=\"#DejaVuSans-30\"/>\r\n      </g>\r\n     </g>\r\n    </g>\r\n    <g id=\"xtick_6\">\r\n     <g id=\"line2d_6\">\r\n      <g>\r\n       <use style=\"stroke:#000000;stroke-width:0.8;\" x=\"539.295701\" xlink:href=\"#m2661d1fa1a\" y=\"348.478125\"/>\r\n      </g>\r\n     </g>\r\n     <g id=\"text_6\">\r\n      <!-- 100 -->\r\n      <g transform=\"translate(529.751951 363.076563)scale(0.1 -0.1)\">\r\n       <defs>\r\n        <path d=\"M 794 531 \r\nL 1825 531 \r\nL 1825 4091 \r\nL 703 3866 \r\nL 703 4441 \r\nL 1819 4666 \r\nL 2450 4666 \r\nL 2450 531 \r\nL 3481 531 \r\nL 3481 0 \r\nL 794 0 \r\nL 794 531 \r\nz\r\n\" id=\"DejaVuSans-31\" transform=\"scale(0.015625)\"/>\r\n       </defs>\r\n       <use xlink:href=\"#DejaVuSans-31\"/>\r\n       <use x=\"63.623047\" xlink:href=\"#DejaVuSans-30\"/>\r\n       <use x=\"127.246094\" xlink:href=\"#DejaVuSans-30\"/>\r\n      </g>\r\n     </g>\r\n    </g>\r\n   </g>\r\n   <g id=\"matplotlib.axis_2\">\r\n    <g id=\"ytick_1\">\r\n     <g id=\"line2d_7\">\r\n      <defs>\r\n       <path d=\"M 0 0 \r\nL -3.5 0 \r\n\" id=\"m0f50f44903\" style=\"stroke:#000000;stroke-width:0.8;\"/>\r\n      </defs>\r\n      <g>\r\n       <use style=\"stroke:#000000;stroke-width:0.8;\" x=\"33.2875\" xlink:href=\"#m0f50f44903\" y=\"333.5709\"/>\r\n      </g>\r\n     </g>\r\n     <g id=\"text_7\">\r\n      <!-- 70 -->\r\n      <g transform=\"translate(13.5625 337.370119)scale(0.1 -0.1)\">\r\n       <defs>\r\n        <path d=\"M 525 4666 \r\nL 3525 4666 \r\nL 3525 4397 \r\nL 1831 0 \r\nL 1172 0 \r\nL 2766 4134 \r\nL 525 4134 \r\nL 525 4666 \r\nz\r\n\" id=\"DejaVuSans-37\" transform=\"scale(0.015625)\"/>\r\n       </defs>\r\n       <use xlink:href=\"#DejaVuSans-37\"/>\r\n       <use x=\"63.623047\" xlink:href=\"#DejaVuSans-30\"/>\r\n      </g>\r\n     </g>\r\n    </g>\r\n    <g id=\"ytick_2\">\r\n     <g id=\"line2d_8\">\r\n      <g>\r\n       <use style=\"stroke:#000000;stroke-width:0.8;\" x=\"33.2875\" xlink:href=\"#m0f50f44903\" y=\"283.668665\"/>\r\n      </g>\r\n     </g>\r\n     <g id=\"text_8\">\r\n      <!-- 75 -->\r\n      <g transform=\"translate(13.5625 287.467884)scale(0.1 -0.1)\">\r\n       <defs>\r\n        <path d=\"M 691 4666 \r\nL 3169 4666 \r\nL 3169 4134 \r\nL 1269 4134 \r\nL 1269 2991 \r\nQ 1406 3038 1543 3061 \r\nQ 1681 3084 1819 3084 \r\nQ 2600 3084 3056 2656 \r\nQ 3513 2228 3513 1497 \r\nQ 3513 744 3044 326 \r\nQ 2575 -91 1722 -91 \r\nQ 1428 -91 1123 -41 \r\nQ 819 9 494 109 \r\nL 494 744 \r\nQ 775 591 1075 516 \r\nQ 1375 441 1709 441 \r\nQ 2250 441 2565 725 \r\nQ 2881 1009 2881 1497 \r\nQ 2881 1984 2565 2268 \r\nQ 2250 2553 1709 2553 \r\nQ 1456 2553 1204 2497 \r\nQ 953 2441 691 2322 \r\nL 691 4666 \r\nz\r\n\" id=\"DejaVuSans-35\" transform=\"scale(0.015625)\"/>\r\n       </defs>\r\n       <use xlink:href=\"#DejaVuSans-37\"/>\r\n       <use x=\"63.623047\" xlink:href=\"#DejaVuSans-35\"/>\r\n      </g>\r\n     </g>\r\n    </g>\r\n    <g id=\"ytick_3\">\r\n     <g id=\"line2d_9\">\r\n      <g>\r\n       <use style=\"stroke:#000000;stroke-width:0.8;\" x=\"33.2875\" xlink:href=\"#m0f50f44903\" y=\"233.766431\"/>\r\n      </g>\r\n     </g>\r\n     <g id=\"text_9\">\r\n      <!-- 80 -->\r\n      <g transform=\"translate(13.5625 237.56565)scale(0.1 -0.1)\">\r\n       <use xlink:href=\"#DejaVuSans-38\"/>\r\n       <use x=\"63.623047\" xlink:href=\"#DejaVuSans-30\"/>\r\n      </g>\r\n     </g>\r\n    </g>\r\n    <g id=\"ytick_4\">\r\n     <g id=\"line2d_10\">\r\n      <g>\r\n       <use style=\"stroke:#000000;stroke-width:0.8;\" x=\"33.2875\" xlink:href=\"#m0f50f44903\" y=\"183.864196\"/>\r\n      </g>\r\n     </g>\r\n     <g id=\"text_10\">\r\n      <!-- 85 -->\r\n      <g transform=\"translate(13.5625 187.663415)scale(0.1 -0.1)\">\r\n       <use xlink:href=\"#DejaVuSans-38\"/>\r\n       <use x=\"63.623047\" xlink:href=\"#DejaVuSans-35\"/>\r\n      </g>\r\n     </g>\r\n    </g>\r\n    <g id=\"ytick_5\">\r\n     <g id=\"line2d_11\">\r\n      <g>\r\n       <use style=\"stroke:#000000;stroke-width:0.8;\" x=\"33.2875\" xlink:href=\"#m0f50f44903\" y=\"133.961962\"/>\r\n      </g>\r\n     </g>\r\n     <g id=\"text_11\">\r\n      <!-- 90 -->\r\n      <g transform=\"translate(13.5625 137.761181)scale(0.1 -0.1)\">\r\n       <defs>\r\n        <path d=\"M 703 97 \r\nL 703 672 \r\nQ 941 559 1184 500 \r\nQ 1428 441 1663 441 \r\nQ 2288 441 2617 861 \r\nQ 2947 1281 2994 2138 \r\nQ 2813 1869 2534 1725 \r\nQ 2256 1581 1919 1581 \r\nQ 1219 1581 811 2004 \r\nQ 403 2428 403 3163 \r\nQ 403 3881 828 4315 \r\nQ 1253 4750 1959 4750 \r\nQ 2769 4750 3195 4129 \r\nQ 3622 3509 3622 2328 \r\nQ 3622 1225 3098 567 \r\nQ 2575 -91 1691 -91 \r\nQ 1453 -91 1209 -44 \r\nQ 966 3 703 97 \r\nz\r\nM 1959 2075 \r\nQ 2384 2075 2632 2365 \r\nQ 2881 2656 2881 3163 \r\nQ 2881 3666 2632 3958 \r\nQ 2384 4250 1959 4250 \r\nQ 1534 4250 1286 3958 \r\nQ 1038 3666 1038 3163 \r\nQ 1038 2656 1286 2365 \r\nQ 1534 2075 1959 2075 \r\nz\r\n\" id=\"DejaVuSans-39\" transform=\"scale(0.015625)\"/>\r\n       </defs>\r\n       <use xlink:href=\"#DejaVuSans-39\"/>\r\n       <use x=\"63.623047\" xlink:href=\"#DejaVuSans-30\"/>\r\n      </g>\r\n     </g>\r\n    </g>\r\n    <g id=\"ytick_6\">\r\n     <g id=\"line2d_12\">\r\n      <g>\r\n       <use style=\"stroke:#000000;stroke-width:0.8;\" x=\"33.2875\" xlink:href=\"#m0f50f44903\" y=\"84.059727\"/>\r\n      </g>\r\n     </g>\r\n     <g id=\"text_12\">\r\n      <!-- 95 -->\r\n      <g transform=\"translate(13.5625 87.858946)scale(0.1 -0.1)\">\r\n       <use xlink:href=\"#DejaVuSans-39\"/>\r\n       <use x=\"63.623047\" xlink:href=\"#DejaVuSans-35\"/>\r\n      </g>\r\n     </g>\r\n    </g>\r\n    <g id=\"ytick_7\">\r\n     <g id=\"line2d_13\">\r\n      <g>\r\n       <use style=\"stroke:#000000;stroke-width:0.8;\" x=\"33.2875\" xlink:href=\"#m0f50f44903\" y=\"34.157493\"/>\r\n      </g>\r\n     </g>\r\n     <g id=\"text_13\">\r\n      <!-- 100 -->\r\n      <g transform=\"translate(7.2 37.956712)scale(0.1 -0.1)\">\r\n       <use xlink:href=\"#DejaVuSans-31\"/>\r\n       <use x=\"63.623047\" xlink:href=\"#DejaVuSans-30\"/>\r\n       <use x=\"127.246094\" xlink:href=\"#DejaVuSans-30\"/>\r\n      </g>\r\n     </g>\r\n    </g>\r\n   </g>\r\n   <g id=\"line2d_14\">\r\n    <path clip-path=\"url(#p05eb9f0420)\" d=\"M 57.382955 37.14358 \r\nL 61.738719 40.640318 \r\nL 66.111885 44.120147 \r\nL 70.502185 47.58347 \r\nL 74.909367 51.030681 \r\nL 79.333176 54.46216 \r\nL 83.773364 57.878268 \r\nL 88.229682 61.279356 \r\nL 92.701884 64.665759 \r\nL 97.189725 68.037799 \r\nL 101.692965 71.395787 \r\nL 106.211362 74.740021 \r\nL 110.744679 78.07079 \r\nL 115.292679 81.388369 \r\nL 119.855129 84.693025 \r\nL 124.431795 87.985015 \r\nL 129.022448 91.264586 \r\nL 133.626859 94.531975 \r\nL 138.2448 97.787414 \r\nL 142.876048 101.031123 \r\nL 147.520378 104.263316 \r\nL 152.17755 107.484189 \r\nL 156.847381 110.69396 \r\nL 161.529635 113.892812 \r\nL 166.224096 117.080931 \r\nL 170.930547 120.258494 \r\nL 175.648778 123.425676 \r\nL 180.378575 126.582643 \r\nL 185.119728 129.729557 \r\nL 189.872031 132.866573 \r\nL 194.635273 135.993844 \r\nL 199.409252 139.111515 \r\nL 204.193731 142.21971 \r\nL 208.988573 145.318601 \r\nL 213.793537 148.4083 \r\nL 218.608439 151.488941 \r\nL 223.433073 154.560647 \r\nL 228.267243 157.623536 \r\nL 233.110754 160.677726 \r\nL 237.963411 163.72333 \r\nL 242.825024 166.760458 \r\nL 247.695402 169.789216 \r\nL 252.574355 172.809708 \r\nL 257.461695 175.822035 \r\nL 262.357236 178.826292 \r\nL 267.260793 181.822576 \r\nL 272.17218 184.810978 \r\nL 277.091217 187.791587 \r\nL 282.01772 190.764489 \r\nL 286.95151 193.729771 \r\nL 291.892408 196.687512 \r\nL 296.840237 199.637794 \r\nL 301.794819 202.580694 \r\nL 306.756019 205.516307 \r\nL 311.723573 208.444661 \r\nL 316.697382 211.365866 \r\nL 321.677232 214.27997 \r\nL 326.662987 217.187058 \r\nL 331.654438 220.087177 \r\nL 336.651482 222.980425 \r\nL 341.653848 225.866811 \r\nL 346.661519 228.746474 \r\nL 351.674196 231.619404 \r\nL 356.691778 234.485693 \r\nL 361.714088 237.345391 \r\nL 366.740959 240.19855 \r\nL 371.772251 243.045236 \r\nL 376.807788 245.885494 \r\nL 381.847416 248.719378 \r\nL 386.89098 251.546941 \r\nL 391.938322 254.368232 \r\nL 396.98929 257.183301 \r\nL 402.04373 259.992196 \r\nL 407.101487 262.794964 \r\nL 412.162412 265.591651 \r\nL 417.226353 268.382304 \r\nL 422.293161 271.166966 \r\nL 427.362687 273.945682 \r\nL 432.434781 276.718492 \r\nL 437.509308 279.485444 \r\nL 442.58611 282.246574 \r\nL 447.665045 285.001924 \r\nL 452.745931 287.751514 \r\nL 457.828707 290.495425 \r\nL 462.913195 293.233677 \r\nL 467.999274 295.966317 \r\nL 473.086764 298.693363 \r\nL 478.175509 301.414844 \r\nL 483.26541 304.130814 \r\nL 488.356337 306.841314 \r\nL 493.448184 309.546392 \r\nL 498.540739 312.246047 \r\nL 503.633902 314.940328 \r\nL 508.727539 317.62927 \r\nL 513.821515 320.312905 \r\nL 518.915719 322.991274 \r\nL 524.009989 325.664397 \r\nL 529.104233 328.332323 \r\nL 534.19829 330.995068 \r\nL 539.292045 333.65267 \r\n\" style=\"fill:none;stroke:#1f77b4;stroke-linecap:square;stroke-width:1.5;\"/>\r\n   </g>\r\n   <g id=\"patch_3\">\r\n    <path d=\"M 33.2875 348.478125 \r\nL 33.2875 22.318125 \r\n\" style=\"fill:none;stroke:#000000;stroke-linecap:square;stroke-linejoin:miter;stroke-width:0.8;\"/>\r\n   </g>\r\n   <g id=\"patch_4\">\r\n    <path d=\"M 563.3875 348.478125 \r\nL 563.3875 22.318125 \r\n\" style=\"fill:none;stroke:#000000;stroke-linecap:square;stroke-linejoin:miter;stroke-width:0.8;\"/>\r\n   </g>\r\n   <g id=\"patch_5\">\r\n    <path d=\"M 33.2875 348.478125 \r\nL 563.3875 348.478125 \r\n\" style=\"fill:none;stroke:#000000;stroke-linecap:square;stroke-linejoin:miter;stroke-width:0.8;\"/>\r\n   </g>\r\n   <g id=\"patch_6\">\r\n    <path d=\"M 33.2875 22.318125 \r\nL 563.3875 22.318125 \r\n\" style=\"fill:none;stroke:#000000;stroke-linecap:square;stroke-linejoin:miter;stroke-width:0.8;\"/>\r\n   </g>\r\n   <g id=\"text_14\">\r\n    <!-- Anti Squat -->\r\n    <g transform=\"translate(267.055 16.318125)scale(0.12 -0.12)\">\r\n     <defs>\r\n      <path d=\"M 2188 4044 \r\nL 1331 1722 \r\nL 3047 1722 \r\nL 2188 4044 \r\nz\r\nM 1831 4666 \r\nL 2547 4666 \r\nL 4325 0 \r\nL 3669 0 \r\nL 3244 1197 \r\nL 1141 1197 \r\nL 716 0 \r\nL 50 0 \r\nL 1831 4666 \r\nz\r\n\" id=\"DejaVuSans-41\" transform=\"scale(0.015625)\"/>\r\n      <path d=\"M 3513 2113 \r\nL 3513 0 \r\nL 2938 0 \r\nL 2938 2094 \r\nQ 2938 2591 2744 2837 \r\nQ 2550 3084 2163 3084 \r\nQ 1697 3084 1428 2787 \r\nQ 1159 2491 1159 1978 \r\nL 1159 0 \r\nL 581 0 \r\nL 581 3500 \r\nL 1159 3500 \r\nL 1159 2956 \r\nQ 1366 3272 1645 3428 \r\nQ 1925 3584 2291 3584 \r\nQ 2894 3584 3203 3211 \r\nQ 3513 2838 3513 2113 \r\nz\r\n\" id=\"DejaVuSans-6e\" transform=\"scale(0.015625)\"/>\r\n      <path d=\"M 1172 4494 \r\nL 1172 3500 \r\nL 2356 3500 \r\nL 2356 3053 \r\nL 1172 3053 \r\nL 1172 1153 \r\nQ 1172 725 1289 603 \r\nQ 1406 481 1766 481 \r\nL 2356 481 \r\nL 2356 0 \r\nL 1766 0 \r\nQ 1100 0 847 248 \r\nQ 594 497 594 1153 \r\nL 594 3053 \r\nL 172 3053 \r\nL 172 3500 \r\nL 594 3500 \r\nL 594 4494 \r\nL 1172 4494 \r\nz\r\n\" id=\"DejaVuSans-74\" transform=\"scale(0.015625)\"/>\r\n      <path d=\"M 603 3500 \r\nL 1178 3500 \r\nL 1178 0 \r\nL 603 0 \r\nL 603 3500 \r\nz\r\nM 603 4863 \r\nL 1178 4863 \r\nL 1178 4134 \r\nL 603 4134 \r\nL 603 4863 \r\nz\r\n\" id=\"DejaVuSans-69\" transform=\"scale(0.015625)\"/>\r\n      <path id=\"DejaVuSans-20\" transform=\"scale(0.015625)\"/>\r\n      <path d=\"M 3425 4513 \r\nL 3425 3897 \r\nQ 3066 4069 2747 4153 \r\nQ 2428 4238 2131 4238 \r\nQ 1616 4238 1336 4038 \r\nQ 1056 3838 1056 3469 \r\nQ 1056 3159 1242 3001 \r\nQ 1428 2844 1947 2747 \r\nL 2328 2669 \r\nQ 3034 2534 3370 2195 \r\nQ 3706 1856 3706 1288 \r\nQ 3706 609 3251 259 \r\nQ 2797 -91 1919 -91 \r\nQ 1588 -91 1214 -16 \r\nQ 841 59 441 206 \r\nL 441 856 \r\nQ 825 641 1194 531 \r\nQ 1563 422 1919 422 \r\nQ 2459 422 2753 634 \r\nQ 3047 847 3047 1241 \r\nQ 3047 1584 2836 1778 \r\nQ 2625 1972 2144 2069 \r\nL 1759 2144 \r\nQ 1053 2284 737 2584 \r\nQ 422 2884 422 3419 \r\nQ 422 4038 858 4394 \r\nQ 1294 4750 2059 4750 \r\nQ 2388 4750 2728 4690 \r\nQ 3069 4631 3425 4513 \r\nz\r\n\" id=\"DejaVuSans-53\" transform=\"scale(0.015625)\"/>\r\n      <path d=\"M 947 1747 \r\nQ 947 1113 1208 752 \r\nQ 1469 391 1925 391 \r\nQ 2381 391 2643 752 \r\nQ 2906 1113 2906 1747 \r\nQ 2906 2381 2643 2742 \r\nQ 2381 3103 1925 3103 \r\nQ 1469 3103 1208 2742 \r\nQ 947 2381 947 1747 \r\nz\r\nM 2906 525 \r\nQ 2725 213 2448 61 \r\nQ 2172 -91 1784 -91 \r\nQ 1150 -91 751 415 \r\nQ 353 922 353 1747 \r\nQ 353 2572 751 3078 \r\nQ 1150 3584 1784 3584 \r\nQ 2172 3584 2448 3432 \r\nQ 2725 3281 2906 2969 \r\nL 2906 3500 \r\nL 3481 3500 \r\nL 3481 -1331 \r\nL 2906 -1331 \r\nL 2906 525 \r\nz\r\n\" id=\"DejaVuSans-71\" transform=\"scale(0.015625)\"/>\r\n      <path d=\"M 544 1381 \r\nL 544 3500 \r\nL 1119 3500 \r\nL 1119 1403 \r\nQ 1119 906 1312 657 \r\nQ 1506 409 1894 409 \r\nQ 2359 409 2629 706 \r\nQ 2900 1003 2900 1516 \r\nL 2900 3500 \r\nL 3475 3500 \r\nL 3475 0 \r\nL 2900 0 \r\nL 2900 538 \r\nQ 2691 219 2414 64 \r\nQ 2138 -91 1772 -91 \r\nQ 1169 -91 856 284 \r\nQ 544 659 544 1381 \r\nz\r\nM 1991 3584 \r\nL 1991 3584 \r\nz\r\n\" id=\"DejaVuSans-75\" transform=\"scale(0.015625)\"/>\r\n      <path d=\"M 2194 1759 \r\nQ 1497 1759 1228 1600 \r\nQ 959 1441 959 1056 \r\nQ 959 750 1161 570 \r\nQ 1363 391 1709 391 \r\nQ 2188 391 2477 730 \r\nQ 2766 1069 2766 1631 \r\nL 2766 1759 \r\nL 2194 1759 \r\nz\r\nM 3341 1997 \r\nL 3341 0 \r\nL 2766 0 \r\nL 2766 531 \r\nQ 2569 213 2275 61 \r\nQ 1981 -91 1556 -91 \r\nQ 1019 -91 701 211 \r\nQ 384 513 384 1019 \r\nQ 384 1609 779 1909 \r\nQ 1175 2209 1959 2209 \r\nL 2766 2209 \r\nL 2766 2266 \r\nQ 2766 2663 2505 2880 \r\nQ 2244 3097 1772 3097 \r\nQ 1472 3097 1187 3025 \r\nQ 903 2953 641 2809 \r\nL 641 3341 \r\nQ 956 3463 1253 3523 \r\nQ 1550 3584 1831 3584 \r\nQ 2591 3584 2966 3190 \r\nQ 3341 2797 3341 1997 \r\nz\r\n\" id=\"DejaVuSans-61\" transform=\"scale(0.015625)\"/>\r\n     </defs>\r\n     <use xlink:href=\"#DejaVuSans-41\"/>\r\n     <use x=\"68.408203\" xlink:href=\"#DejaVuSans-6e\"/>\r\n     <use x=\"131.787109\" xlink:href=\"#DejaVuSans-74\"/>\r\n     <use x=\"170.996094\" xlink:href=\"#DejaVuSans-69\"/>\r\n     <use x=\"198.779297\" xlink:href=\"#DejaVuSans-20\"/>\r\n     <use x=\"230.566406\" xlink:href=\"#DejaVuSans-53\"/>\r\n     <use x=\"294.042969\" xlink:href=\"#DejaVuSans-71\"/>\r\n     <use x=\"357.519531\" xlink:href=\"#DejaVuSans-75\"/>\r\n     <use x=\"420.898438\" xlink:href=\"#DejaVuSans-61\"/>\r\n     <use x=\"482.177734\" xlink:href=\"#DejaVuSans-74\"/>\r\n    </g>\r\n   </g>\r\n  </g>\r\n </g>\r\n <defs>\r\n  <clipPath id=\"p05eb9f0420\">\r\n   <rect height=\"326.16\" width=\"530.1\" x=\"33.2875\" y=\"22.318125\"/>\r\n  </clipPath>\r\n </defs>\r\n</svg>\r\n",
      "image/png": "[encoded data removed]"
     },
     "metadata": {
      "needs_background": "light"
     }
    }
   ],
   "source": [
    "show_AS(horst_example)"
   ]
  },
  {
   "cell_type": "markdown",
   "id": "external-speaking",
   "metadata": {},
   "source": [
    "### DW Link Test"
   ]
  },
  {
   "cell_type": "code",
   "execution_count": 9,
   "id": "exposed-orchestra",
   "metadata": {
    "scrolled": true
   },
   "outputs": [
    {
     "output_type": "error",
     "ename": "KeyError",
     "evalue": "'points'",
     "traceback": [
      "\u001b[1;31m---------------------------------------------------------------------------\u001b[0m",
      "\u001b[1;31mKeyError\u001b[0m                                  Traceback (most recent call last)",
      "\u001b[1;32m<ipython-input-9-b5f48149890c>\u001b[0m in \u001b[0;36m<module>\u001b[1;34m\u001b[0m\n\u001b[1;32m----> 1\u001b[1;33m \u001b[0mshow_leverage_ratio\u001b[0m\u001b[1;33m(\u001b[0m\u001b[0mdw_example\u001b[0m\u001b[1;33m)\u001b[0m\u001b[1;33m\u001b[0m\u001b[1;33m\u001b[0m\u001b[0m\n\u001b[0m",
      "\u001b[1;32m<ipython-input-6-0225eeca632b>\u001b[0m in \u001b[0;36mshow_leverage_ratio\u001b[1;34m(filename)\u001b[0m\n\u001b[0;32m      1\u001b[0m \u001b[1;32mdef\u001b[0m \u001b[0mshow_leverage_ratio\u001b[0m\u001b[1;33m(\u001b[0m\u001b[0mfilename\u001b[0m\u001b[1;33m)\u001b[0m\u001b[1;33m:\u001b[0m\u001b[1;33m\u001b[0m\u001b[1;33m\u001b[0m\u001b[0m\n\u001b[1;32m----> 2\u001b[1;33m     \u001b[0mdata\u001b[0m \u001b[1;33m=\u001b[0m \u001b[0mload_json\u001b[0m\u001b[1;33m(\u001b[0m\u001b[0mfilename\u001b[0m\u001b[1;33m)\u001b[0m\u001b[1;33m\u001b[0m\u001b[1;33m\u001b[0m\u001b[0m\n\u001b[0m\u001b[0;32m      3\u001b[0m     \u001b[0mb\u001b[0m \u001b[1;33m=\u001b[0m \u001b[0mBike\u001b[0m\u001b[1;33m(\u001b[0m\u001b[0mdata\u001b[0m\u001b[1;33m)\u001b[0m\u001b[1;33m\u001b[0m\u001b[1;33m\u001b[0m\u001b[0m\n\u001b[0;32m      4\u001b[0m     \u001b[0mb\u001b[0m\u001b[1;33m.\u001b[0m\u001b[0mget_suspension_motion\u001b[0m\u001b[1;33m(\u001b[0m\u001b[1;36m100\u001b[0m\u001b[1;33m,\u001b[0m\u001b[1;34m'test'\u001b[0m\u001b[1;33m)\u001b[0m\u001b[1;33m\u001b[0m\u001b[1;33m\u001b[0m\u001b[0m\n\u001b[0;32m      5\u001b[0m     \u001b[0mb\u001b[0m\u001b[1;33m.\u001b[0m\u001b[0mcalculate_suspension_characteristics\u001b[0m\u001b[1;33m(\u001b[0m\u001b[1;34m'test'\u001b[0m\u001b[1;33m)\u001b[0m\u001b[1;33m\u001b[0m\u001b[1;33m\u001b[0m\u001b[0m\n",
      "\u001b[1;32m<ipython-input-3-f9efb73f7f9f>\u001b[0m in \u001b[0;36mload_json\u001b[1;34m(filename)\u001b[0m\n\u001b[0;32m      2\u001b[0m     \u001b[1;32mwith\u001b[0m \u001b[0mopen\u001b[0m\u001b[1;33m(\u001b[0m\u001b[0mfilename\u001b[0m\u001b[1;33m)\u001b[0m \u001b[1;32mas\u001b[0m \u001b[0mf\u001b[0m\u001b[1;33m:\u001b[0m\u001b[1;33m\u001b[0m\u001b[1;33m\u001b[0m\u001b[0m\n\u001b[0;32m      3\u001b[0m         \u001b[0mdata\u001b[0m \u001b[1;33m=\u001b[0m \u001b[0mjson\u001b[0m\u001b[1;33m.\u001b[0m\u001b[0mload\u001b[0m\u001b[1;33m(\u001b[0m\u001b[0mf\u001b[0m\u001b[1;33m)\u001b[0m\u001b[1;33m\u001b[0m\u001b[1;33m\u001b[0m\u001b[0m\n\u001b[1;32m----> 4\u001b[1;33m         \u001b[1;32mfor\u001b[0m \u001b[0mpoint_name\u001b[0m\u001b[1;33m,\u001b[0m\u001b[0mpoint\u001b[0m \u001b[1;32min\u001b[0m \u001b[0mdata\u001b[0m\u001b[1;33m[\u001b[0m\u001b[1;34m'points'\u001b[0m\u001b[1;33m]\u001b[0m\u001b[1;33m.\u001b[0m\u001b[0mitems\u001b[0m\u001b[1;33m(\u001b[0m\u001b[1;33m)\u001b[0m\u001b[1;33m:\u001b[0m\u001b[1;33m\u001b[0m\u001b[1;33m\u001b[0m\u001b[0m\n\u001b[0m\u001b[0;32m      5\u001b[0m                 \u001b[0mpoint\u001b[0m\u001b[1;33m[\u001b[0m\u001b[1;34m'pos'\u001b[0m\u001b[1;33m]\u001b[0m \u001b[1;33m=\u001b[0m \u001b[1;33m[\u001b[0m\u001b[0mpoint\u001b[0m\u001b[1;33m[\u001b[0m\u001b[1;34m'pos'\u001b[0m\u001b[1;33m]\u001b[0m\u001b[1;33m[\u001b[0m\u001b[1;36m0\u001b[0m\u001b[1;33m]\u001b[0m\u001b[1;33m*\u001b[0m\u001b[0mdata\u001b[0m\u001b[1;33m[\u001b[0m\u001b[1;34m'params'\u001b[0m\u001b[1;33m]\u001b[0m\u001b[1;33m[\u001b[0m\u001b[1;34m'p2mm'\u001b[0m\u001b[1;33m]\u001b[0m \u001b[1;33m,\u001b[0m\u001b[0mpoint\u001b[0m\u001b[1;33m[\u001b[0m\u001b[1;34m'pos'\u001b[0m\u001b[1;33m]\u001b[0m\u001b[1;33m[\u001b[0m\u001b[1;36m1\u001b[0m\u001b[1;33m]\u001b[0m\u001b[1;33m*\u001b[0m\u001b[0mdata\u001b[0m\u001b[1;33m[\u001b[0m\u001b[1;34m'params'\u001b[0m\u001b[1;33m]\u001b[0m\u001b[1;33m[\u001b[0m\u001b[1;34m'p2mm'\u001b[0m\u001b[1;33m]\u001b[0m\u001b[1;33m]\u001b[0m\u001b[1;33m\u001b[0m\u001b[1;33m\u001b[0m\u001b[0m\n\u001b[0;32m      6\u001b[0m     \u001b[1;32mreturn\u001b[0m \u001b[0mdata\u001b[0m\u001b[1;33m\u001b[0m\u001b[1;33m\u001b[0m\u001b[0m\n",
      "\u001b[1;31mKeyError\u001b[0m: 'points'"
     ]
    }
   ],
   "source": [
    "show_leverage_ratio(dw_example)"
   ]
  },
  {
   "cell_type": "code",
   "execution_count": null,
   "id": "subtle-subscriber",
   "metadata": {},
   "outputs": [],
   "source": [
    "show_AS(dw_example)"
   ]
  },
  {
   "cell_type": "markdown",
   "id": "sapphire-mailing",
   "metadata": {},
   "source": [
    "### Single Pivot Test"
   ]
  },
  {
   "cell_type": "markdown",
   "id": "surrounded-essence",
   "metadata": {},
   "source": [
    "For this the linkage solver is 'tricked' into solving a linkage from the pivot to rear wheel and back again - see output of kinematic link points below. Kind of slow for the circumstance, but means I don't need to bother writing a single piv specific solver"
   ]
  },
  {
   "cell_type": "code",
   "execution_count": null,
   "id": "hindu-logistics",
   "metadata": {
    "scrolled": true
   },
   "outputs": [],
   "source": [
    "show_leverage_ratio(single_piv_example)"
   ]
  },
  {
   "cell_type": "code",
   "execution_count": null,
   "id": "valuable-stuart",
   "metadata": {},
   "outputs": [],
   "source": [
    "show_AS(single_piv_example)"
   ]
  },
  {
   "cell_type": "markdown",
   "id": "boring-occurrence",
   "metadata": {},
   "source": [
    "### Split Pivot Test"
   ]
  },
  {
   "cell_type": "code",
   "execution_count": null,
   "id": "historical-supplier",
   "metadata": {
    "scrolled": true
   },
   "outputs": [],
   "source": [
    "show_leverage_ratio(split_piv_example)"
   ]
  },
  {
   "cell_type": "code",
   "execution_count": null,
   "id": "usual-federation",
   "metadata": {},
   "outputs": [],
   "source": [
    "show_AS(split_piv_example)"
   ]
  },
  {
   "cell_type": "markdown",
   "id": "offshore-specialist",
   "metadata": {},
   "source": [
    "## Anti Squat development"
   ]
  },
  {
   "cell_type": "markdown",
   "id": "automated-little",
   "metadata": {},
   "source": [
    "### Chainline testing\n",
    "\n",
    "Should return the bb and rear wheel point names, and the pcd of the sprockets"
   ]
  },
  {
   "cell_type": "code",
   "execution_count": null,
   "id": "circular-citizen",
   "metadata": {
    "scrolled": true
   },
   "outputs": [],
   "source": [
    "b = Bike(load_json(horst_example))\n",
    "cline = b.chainline\n",
    "posns = [b.points[cline[0][0]].pos, b.points[cline[1][0]].pos]\n",
    "print(cline)\n",
    "print(posns)\n",
    "\n",
    "b.get_suspension_motion(100,'')\n",
    "b.calculate_suspension_characteristics('')\n",
    "posn_sim_1 = b.solution[''][cline[0][0]]\n",
    "rad_1 = cline[0][1] / 2\n",
    "posn_sim_2 = b.solution[''][cline[1][0]]\n",
    "rad_2 = cline[1][1] / 2"
   ]
  },
  {
   "cell_type": "markdown",
   "id": "perceived-potential",
   "metadata": {},
   "source": [
    "Find chaninline using tangent point eqns developed here, to be copied into geometry or Bike module in future"
   ]
  },
  {
   "cell_type": "code",
   "execution_count": null,
   "id": "intermediate-recording",
   "metadata": {},
   "outputs": [],
   "source": [
    "def tangent_eqn(cen,r1,r2):\n",
    "    delta_r = r2-r1\n",
    "    z = np.add( np.power(cen[0],2) , np.power(cen[1],2))\n",
    "    d = np.sqrt( np.subtract( z , np.power(delta_r,2) ) )\n",
    "    \n",
    "    a = np.add( cen[0]*delta_r, cen[1]*d  ) / z\n",
    "    b = np.subtract( cen[1]*delta_r, cen[0]*d  ) / z\n",
    "    c = r1\n",
    "    ret = [a,b,c]\n",
    "    return ret"
   ]
  },
  {
   "cell_type": "code",
   "execution_count": null,
   "id": "quiet-fiction",
   "metadata": {},
   "outputs": [],
   "source": [
    "def find_common_circle_tangent(cen1,r1,cen2,r2):\n",
    "    tan_lines = []\n",
    "    for i in [-1,1]:\n",
    "        for j in [-1,1]: \n",
    "            cen = np.subtract(cen2 , cen1)\n",
    "            #print(cen)\n",
    "            tan_lines.append(tangent_eqn(cen, r1 * i, r2 * j))\n",
    "    for line in tan_lines:\n",
    "        s = np.add( line[0] * cen1[0] , line[1] * cen1[1])\n",
    "        line[2] = np.subtract( line[2] , s )\n",
    "    return tan_lines"
   ]
  },
  {
   "cell_type": "code",
   "execution_count": null,
   "id": "spare-synthetic",
   "metadata": {},
   "outputs": [],
   "source": [
    "def find_circle_tangent_intersection(cen,r,tangent_line):\n",
    "    line = tangent_line[:]\n",
    "    s = np.add( line[0] * cen[0] , line[1] * cen[1])\n",
    "    line[2] = np.add( line[2] , s )\n",
    "    \n",
    "    z = np.add( np.power(line[0],2) , np.power(line[1],2) )\n",
    "    x0 = -(line[0] * line[2]) / z + cen[0]\n",
    "    y0 = -(line[1] * line[2] ) / z + cen[1]\n",
    "\n",
    "    ic = Pos_Result(x0,y0)\n",
    "    return ic"
   ]
  },
  {
   "cell_type": "markdown",
   "id": "statewide-envelope",
   "metadata": {},
   "source": [
    "Plot moving chainline for validation"
   ]
  },
  {
   "cell_type": "code",
   "execution_count": null,
   "id": "exciting-temple",
   "metadata": {
    "scrolled": false
   },
   "outputs": [],
   "source": [
    "cen1 = posn_sim_1\n",
    "r1 = rad_1\n",
    "cen2 = posn_sim_2\n",
    "r2 = rad_2\n",
    "\n",
    "t_lines = find_common_circle_tangent(cen1,r1,cen2,r2)\n",
    "\n",
    "tan_points_1 = []\n",
    "tan_points_2 = []\n",
    "for line in t_lines:\n",
    "    tan_points_1.append(find_circle_tangent_intersection(cen1,r1,line))\n",
    "    tan_points_2.append(find_circle_tangent_intersection(cen2,r2,line))\n",
    "\n",
    "print(tan_points_1[0].x[0:-1:10])\n",
    "    \n",
    "#plot circles\n",
    "a = np.linspace(0,2*np.pi,100)\n",
    "\n",
    "fig,ax1 = plt.subplots()\n",
    "\n",
    "for i in range(0,cen1.x.size,10):\n",
    "    ax1.plot(cen1.x[i]+r1*np.cos(a),cen1.y[i]+r1*np.sin(a))\n",
    "    ax1.plot(cen2.x[i]+r2*np.cos(a),cen2.y[i]+r2*np.sin(a))\n",
    "\n",
    "x = [tan_points_1[0].x[0:-1:10],tan_points_2[0].x[0:-1:10]]\n",
    "y = [tan_points_1[0].y[0:-1:10],tan_points_2[0].y[0:-1:10]]\n",
    "ax1.plot(x,y)    \n",
    "       \n",
    "ax1.set_aspect(1)\n",
    "plt.show()\n"
   ]
  },
  {
   "cell_type": "markdown",
   "id": "virgin-index",
   "metadata": {},
   "source": [
    "### Big graph of everything going on to calculate AS"
   ]
  },
  {
   "cell_type": "markdown",
   "id": "moving-thing",
   "metadata": {},
   "source": [
    "Code for this has been added into Bike class, and it is produced as a solution result after calling calculate_suspension_characteristics. Here is plotting to examine whether results make sense"
   ]
  },
  {
   "cell_type": "code",
   "execution_count": null,
   "id": "noticed-technical",
   "metadata": {
    "scrolled": true
   },
   "outputs": [],
   "source": [
    "b = Bike(load_json(horst_example))\n",
    "b.get_suspension_motion(100,'')\n",
    "b.calculate_suspension_characteristics('')\n",
    "solution = b.solution['']\n",
    "\n",
    "fig, ax = plt.subplots()\n",
    "ax.clear()\n",
    "x = solution['Rear_Wheel'].x\n",
    "y = solution['Rear_Wheel'].y\n",
    "ax.plot(x, y)\n",
    "x = solution['Seatstay'].x\n",
    "y = solution['Seatstay'].y\n",
    "ax.plot(x, y)\n",
    "x = solution['Upper_Pivot'].x\n",
    "y = solution['Upper_Pivot'].y\n",
    "ax.plot(x, y,'*')\n",
    "x = solution['Horst_Pivot'].x\n",
    "y = solution['Horst_Pivot'].y\n",
    "ax.plot(x, y)\n",
    "x = solution['Main_Pivot'].x\n",
    "y = solution['Main_Pivot'].y\n",
    "ax.plot(x, y,'*')\n",
    "x = solution['IFC'].x\n",
    "y=solution['IFC'].y\n",
    "ax.plot(x, y)\n",
    "x = solution['AS_Point'].x\n",
    "y = solution['AS_Point'].y\n",
    "ax.plot(x, y)\n",
    "a = np.linspace(0,2*np.pi,100)\n",
    "x = solution['Rear_Wheel'].x[0]*np.ones_like(a) + b.chainline[-1][1] * 0.5 * np.sin(a)\n",
    "y = solution['Rear_Wheel'].y[0]*np.ones_like(a) + b.chainline[-1][1] * 0.5 * np.cos(a)\n",
    "ax.plot(x,y)\n",
    "x = solution['Bottom_Bracket'].x[0]*np.ones_like(a) + b.chainline[-2][1] * 0.5 * np.sin(a)\n",
    "y = solution['Bottom_Bracket'].y[0]*np.ones_like(a) + b.chainline[-2][1] * 0.5 * np.cos(a)\n",
    "ax.plot(x,y)\n",
    "x = solution['Rear_Wheel'].x[0]*np.ones_like(a) + 29.25*25.4 * 0.5 * np.sin(a)\n",
    "y = solution['Rear_Wheel'].y[0]*np.ones_like(a) + 29.25*25.4 * 0.5 * np.cos(a)\n",
    "ax.plot(x,y,'--')\n",
    "x = solution['Front_Wheel'].x[0]*np.ones_like(a) + 29.25*25.4 * 0.5 * np.sin(a)\n",
    "y = solution['Front_Wheel'].y[0]*np.ones_like(a) + 29.25*25.4 * 0.5 * np.cos(a)\n",
    "ax.plot(x,y,'--')\n",
    "\n",
    "x = solution['Instant Centre'].x\n",
    "y = solution['Instant Centre'].y\n",
    "plt.xlim([0,2000])\n",
    "plt.ylim([-100,1500])\n",
    "ax.plot(x, y)\n",
    "\n",
    "x = [ solution['Seatstay'].x[0] , solution['Instant Centre'].x[0] ]\n",
    "y = [ solution['Seatstay'].y[0] , solution['Instant Centre'].y[0] ]\n",
    "ax.plot(x,y,'--')\n",
    "x = [ solution['Horst_Pivot'].x[0] , solution['Instant Centre'].x[0] ]\n",
    "y = [ solution['Horst_Pivot'].y[0] , solution['Instant Centre'].y[0] ]\n",
    "ax.plot(x,y,'--')\n",
    "\n",
    "x = [ solution['Seatstay'].x[-1] , solution['Instant Centre'].x[-1] ]\n",
    "y = [ solution['Seatstay'].y[-1] , solution['Instant Centre'].y[-1] ]\n",
    "ax.plot(x,y,'--')\n",
    "x = [ solution['Horst_Pivot'].x[-1] , solution['Instant Centre'].x[-1] ]\n",
    "y = [ solution['Horst_Pivot'].y[-1] , solution['Instant Centre'].y[-1] ]\n",
    "ax.plot(x,y,'--')\n",
    "x = [ solution['Rear_Wheel'].x[0] , solution['Instant Centre'].x[0] ]\n",
    "y = [ solution['Rear_Wheel'].y[0] , solution['Instant Centre'].y[0] ]\n",
    "ax.plot(x,y,'--')\n",
    "x = [ solution['CLINE_1'].x[0] , solution['CLINE_2'].x[0] ]\n",
    "y = [ solution['CLINE_1'].y[0] , solution['CLINE_2'].y[0] ]\n",
    "ax.plot(x,y,'--')\n",
    "x = [ solution['Tyre_Contact'].x[0] , solution['AS_Point'].x[0] ]\n",
    "y = [ solution['Tyre_Contact'].y[0] , solution['AS_Point'].y[0] ]\n",
    "ax.plot(x,y,'--')\n",
    "\n",
    "ax.set_aspect('equal')\n",
    "plt.rcParams['figure.figsize'] = [9.5, 6]\n",
    "plt.show()\n",
    "\n",
    "print(str(- solution['Rear_Wheel'].x[0] + solution['Front_Wheel'].x[0]))\n",
    "print(b.params['chainring_teeth'])\n",
    "print(b.params['cassette_teeth'])\n",
    "print(b.params['wheel_size'])\n",
    "print(b.params['cog_height'])"
   ]
  },
  {
   "cell_type": "code",
   "execution_count": null,
   "id": "manual-operations",
   "metadata": {},
   "outputs": [],
   "source": []
  }
 ],
 "metadata": {
  "kernelspec": {
   "name": "python3",
   "display_name": "Python 3.7.9 64-bit ('.env': venv)"
  },
  "language_info": {
   "codemirror_mode": {
    "name": "ipython",
    "version": 3
   },
   "file_extension": ".py",
   "mimetype": "text/x-python",
   "name": "python",
   "nbconvert_exporter": "python",
   "pygments_lexer": "ipython3",
   "version": "3.7.9"
  },
  "interpreter": {
   "hash": "52404720edd943e3b5f862d8ad7b9b349bd58a0321204f1e5ce584b40c3ba673"
  }
 },
 "nbformat": 4,
 "nbformat_minor": 5
}