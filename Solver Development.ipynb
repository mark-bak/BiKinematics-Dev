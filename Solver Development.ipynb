{
 "cells": [
  {
   "cell_type": "markdown",
   "id": "established-fever",
   "metadata": {},
   "source": [
    "# Bike - Solver Development\n",
    "\n"
   ]
  },
  {
   "cell_type": "markdown",
   "id": "nuclear-affair",
   "metadata": {},
   "source": [
    "Import modules"
   ]
  },
  {
   "cell_type": "code",
   "execution_count": 1,
   "id": "signed-substance",
   "metadata": {
    "scrolled": true
   },
   "outputs": [],
   "source": [
    "import json\n",
    "import matplotlib\n",
    "import matplotlib.pyplot as plt\n",
    "import numpy as np\n",
    "\n"
   ]
  },
  {
   "cell_type": "code",
   "execution_count": 2,
   "id": "nutritional-hepatitis",
   "metadata": {},
   "outputs": [
    {
     "output_type": "display_data",
     "data": {
      "text/plain": "<IPython.core.display.Javascript object>",
      "application/javascript": "IPython.OutputArea.prototype_should_scroll = function(lines) {\n    return false;\n}\n"
     },
     "metadata": {}
    }
   ],
   "source": [
    "%%javascript\n",
    "IPython.OutputArea.prototype_should_scroll = function(lines) {\n",
    "    return false;\n",
    "}"
   ]
  },
  {
   "cell_type": "markdown",
   "id": "designing-stanley",
   "metadata": {},
   "source": [
    "Import bike scripts"
   ]
  },
  {
   "cell_type": "code",
   "execution_count": 3,
   "id": "severe-helena",
   "metadata": {},
   "outputs": [],
   "source": [
    "import sys\n",
    "sys.path.append(r\"C:\\Users\\Mark\\Documents\\Important\\Programming\\BiKinematics\")\n",
    "\n",
    "\n",
    "from Solver.bike import Bike\n",
    "import Solver.geometry as g\n",
    "from Solver.dtypes import Pos_Result"
   ]
  },
  {
   "cell_type": "markdown",
   "id": "sublime-nowhere",
   "metadata": {},
   "source": [
    "Define loading functon for our bike data"
   ]
  },
  {
   "cell_type": "code",
   "execution_count": 4,
   "id": "marine-transaction",
   "metadata": {},
   "outputs": [],
   "source": [
    "def load_json(filename):\n",
    "    with open(filename) as f:\n",
    "        data = json.load(f)\n",
    "        for key,value in data.items():\n",
    "            if value['object']==\"Point\":\n",
    "                #these are stored in .json as pixel positions -> need to scale to mm (in app this as done when 'simulate' is clicked)\n",
    "                value['position'] = [value['position'][0]*data['p2mm']['value'] ,value['position'][1]*data['p2mm']['value']]\n",
    "    return data"
   ]
  },
  {
   "cell_type": "markdown",
   "id": "cooperative-borough",
   "metadata": {},
   "source": [
    "## Different Suspension Types - Leverage Ratio (and now Anti-Squat (still needs validation!)\n",
    "\n",
    "Test a variety of suspension types and see:\n",
    "- If solver is able to produce solution\n",
    "- If leverage ratio looks sensible\n",
    "- Not really sure what to measure against - maybe leverage ratio curves from manufacturers??"
   ]
  },
  {
   "cell_type": "markdown",
   "id": "saved-partnership",
   "metadata": {},
   "source": [
    "Plot function"
   ]
  },
  {
   "cell_type": "code",
   "execution_count": 5,
   "id": "beneficial-doubt",
   "metadata": {},
   "outputs": [],
   "source": [
    "def show_leverage_ratio(filename):\n",
    "    data = load_json(filename)\n",
    "    b = Bike(data)\n",
    "    b.get_suspension_motion(100,'test')\n",
    "    b.calculate_suspension_characteristics('test')\n",
    "    fig, ax = plt.subplots()\n",
    "    x = b.solution['test']['Vertical Travel']\n",
    "    y = b.solution['test']['Leverage Ratio']\n",
    "    ax.plot(x, y)\n",
    "    ax.set_title('Leverage Ratio')\n",
    "    plt.rcParams['figure.figsize'] = [9.5, 6]\n",
    "    plt.show()\n",
    "\n",
    "def show_AS(filename):\n",
    "    data = load_json(filename)\n",
    "    b = Bike(data)\n",
    "    b.get_suspension_motion(100,'test')\n",
    "    b.calculate_suspension_characteristics('test')\n",
    "    fig, ax = plt.subplots()\n",
    "    x = b.solution['test']['Vertical Travel']\n",
    "    y = b.solution['test']['Anti Squat Percent']\n",
    "    ax.plot(x, y)\n",
    "    ax.set_title('Anti Squat')\n",
    "    plt.rcParams['figure.figsize'] = [9.5, 6]\n",
    "    plt.show()"
   ]
  },
  {
   "cell_type": "markdown",
   "id": "behavioral-rebate",
   "metadata": {},
   "source": [
    "Data"
   ]
  },
  {
   "cell_type": "code",
   "execution_count": 6,
   "id": "ceramic-being",
   "metadata": {},
   "outputs": [],
   "source": [
    "horst_example = 'C:\\Users\\Mark\\Documents\\Important\\Programming\\BiKinematics\\Savefiles\\\\Example_VitusSommet.json'\n",
    "dw_example = 'C:\\Users\\Mark\\Documents\\Important\\Programming\\BiKinematics\\Savefiles\\\\Example_PivotMach6.json'\n",
    "split_piv_example = 'C:\\Users\\Mark\\Documents\\Important\\Programming\\BiKinematics\\Savefiles\\\\Example_DevinciMarshall.json'\n",
    "single_piv_example = 'C:\\Users\\Mark\\Documents\\Important\\Programming\\BiKinematics\\Savefiles\\\\Example_OrangeFive.json'"
   ]
  },
  {
   "cell_type": "markdown",
   "id": "color-pension",
   "metadata": {},
   "source": [
    "### Horst Link Test"
   ]
  },
  {
   "cell_type": "code",
   "execution_count": 7,
   "id": "powerful-chorus",
   "metadata": {
    "scrolled": false
   },
   "outputs": [
    {
     "output_type": "error",
     "ename": "FileNotFoundError",
     "evalue": "[Errno 2] No such file or directory: 'Savefiles\\\\Example_VitusSommet.json'",
     "traceback": [
      "\u001b[1;31m---------------------------------------------------------------------------\u001b[0m",
      "\u001b[1;31mFileNotFoundError\u001b[0m                         Traceback (most recent call last)",
      "\u001b[1;32m<ipython-input-7-7205233c03d2>\u001b[0m in \u001b[0;36m<module>\u001b[1;34m\u001b[0m\n\u001b[1;32m----> 1\u001b[1;33m \u001b[0mshow_leverage_ratio\u001b[0m\u001b[1;33m(\u001b[0m\u001b[0mhorst_example\u001b[0m\u001b[1;33m)\u001b[0m\u001b[1;33m\u001b[0m\u001b[1;33m\u001b[0m\u001b[0m\n\u001b[0m",
      "\u001b[1;32m<ipython-input-5-0225eeca632b>\u001b[0m in \u001b[0;36mshow_leverage_ratio\u001b[1;34m(filename)\u001b[0m\n\u001b[0;32m      1\u001b[0m \u001b[1;32mdef\u001b[0m \u001b[0mshow_leverage_ratio\u001b[0m\u001b[1;33m(\u001b[0m\u001b[0mfilename\u001b[0m\u001b[1;33m)\u001b[0m\u001b[1;33m:\u001b[0m\u001b[1;33m\u001b[0m\u001b[1;33m\u001b[0m\u001b[0m\n\u001b[1;32m----> 2\u001b[1;33m     \u001b[0mdata\u001b[0m \u001b[1;33m=\u001b[0m \u001b[0mload_json\u001b[0m\u001b[1;33m(\u001b[0m\u001b[0mfilename\u001b[0m\u001b[1;33m)\u001b[0m\u001b[1;33m\u001b[0m\u001b[1;33m\u001b[0m\u001b[0m\n\u001b[0m\u001b[0;32m      3\u001b[0m     \u001b[0mb\u001b[0m \u001b[1;33m=\u001b[0m \u001b[0mBike\u001b[0m\u001b[1;33m(\u001b[0m\u001b[0mdata\u001b[0m\u001b[1;33m)\u001b[0m\u001b[1;33m\u001b[0m\u001b[1;33m\u001b[0m\u001b[0m\n\u001b[0;32m      4\u001b[0m     \u001b[0mb\u001b[0m\u001b[1;33m.\u001b[0m\u001b[0mget_suspension_motion\u001b[0m\u001b[1;33m(\u001b[0m\u001b[1;36m100\u001b[0m\u001b[1;33m,\u001b[0m\u001b[1;34m'test'\u001b[0m\u001b[1;33m)\u001b[0m\u001b[1;33m\u001b[0m\u001b[1;33m\u001b[0m\u001b[0m\n\u001b[0;32m      5\u001b[0m     \u001b[0mb\u001b[0m\u001b[1;33m.\u001b[0m\u001b[0mcalculate_suspension_characteristics\u001b[0m\u001b[1;33m(\u001b[0m\u001b[1;34m'test'\u001b[0m\u001b[1;33m)\u001b[0m\u001b[1;33m\u001b[0m\u001b[1;33m\u001b[0m\u001b[0m\n",
      "\u001b[1;32m<ipython-input-4-73db5c402c13>\u001b[0m in \u001b[0;36mload_json\u001b[1;34m(filename)\u001b[0m\n\u001b[0;32m      1\u001b[0m \u001b[1;32mdef\u001b[0m \u001b[0mload_json\u001b[0m\u001b[1;33m(\u001b[0m\u001b[0mfilename\u001b[0m\u001b[1;33m)\u001b[0m\u001b[1;33m:\u001b[0m\u001b[1;33m\u001b[0m\u001b[1;33m\u001b[0m\u001b[0m\n\u001b[1;32m----> 2\u001b[1;33m     \u001b[1;32mwith\u001b[0m \u001b[0mopen\u001b[0m\u001b[1;33m(\u001b[0m\u001b[0mfilename\u001b[0m\u001b[1;33m)\u001b[0m \u001b[1;32mas\u001b[0m \u001b[0mf\u001b[0m\u001b[1;33m:\u001b[0m\u001b[1;33m\u001b[0m\u001b[1;33m\u001b[0m\u001b[0m\n\u001b[0m\u001b[0;32m      3\u001b[0m         \u001b[0mdata\u001b[0m \u001b[1;33m=\u001b[0m \u001b[0mjson\u001b[0m\u001b[1;33m.\u001b[0m\u001b[0mload\u001b[0m\u001b[1;33m(\u001b[0m\u001b[0mf\u001b[0m\u001b[1;33m)\u001b[0m\u001b[1;33m\u001b[0m\u001b[1;33m\u001b[0m\u001b[0m\n\u001b[0;32m      4\u001b[0m         \u001b[1;32mfor\u001b[0m \u001b[0mkey\u001b[0m\u001b[1;33m,\u001b[0m\u001b[0mvalue\u001b[0m \u001b[1;32min\u001b[0m \u001b[0mdata\u001b[0m\u001b[1;33m.\u001b[0m\u001b[0mitems\u001b[0m\u001b[1;33m(\u001b[0m\u001b[1;33m)\u001b[0m\u001b[1;33m:\u001b[0m\u001b[1;33m\u001b[0m\u001b[1;33m\u001b[0m\u001b[0m\n\u001b[0;32m      5\u001b[0m             \u001b[1;32mif\u001b[0m \u001b[0mvalue\u001b[0m\u001b[1;33m[\u001b[0m\u001b[1;34m'object'\u001b[0m\u001b[1;33m]\u001b[0m\u001b[1;33m==\u001b[0m\u001b[1;34m\"Point\"\u001b[0m\u001b[1;33m:\u001b[0m\u001b[1;33m\u001b[0m\u001b[1;33m\u001b[0m\u001b[0m\n",
      "\u001b[1;31mFileNotFoundError\u001b[0m: [Errno 2] No such file or directory: 'Savefiles\\\\Example_VitusSommet.json'"
     ]
    }
   ],
   "source": [
    "#%%prun -s tottime -l 10\n",
    "show_leverage_ratio(horst_example)"
   ]
  },
  {
   "cell_type": "code",
   "execution_count": null,
   "id": "super-fever",
   "metadata": {
    "scrolled": true
   },
   "outputs": [],
   "source": [
    "show_AS(horst_example)"
   ]
  },
  {
   "cell_type": "markdown",
   "id": "external-speaking",
   "metadata": {},
   "source": [
    "### DW Link Test"
   ]
  },
  {
   "cell_type": "code",
   "execution_count": null,
   "id": "exposed-orchestra",
   "metadata": {
    "scrolled": true
   },
   "outputs": [],
   "source": [
    "show_leverage_ratio(dw_example)"
   ]
  },
  {
   "cell_type": "code",
   "execution_count": null,
   "id": "subtle-subscriber",
   "metadata": {},
   "outputs": [],
   "source": [
    "show_AS(dw_example)"
   ]
  },
  {
   "cell_type": "markdown",
   "id": "sapphire-mailing",
   "metadata": {},
   "source": [
    "### Single Pivot Test"
   ]
  },
  {
   "cell_type": "markdown",
   "id": "surrounded-essence",
   "metadata": {},
   "source": [
    "For this the linkage solver is 'tricked' into solving a linkage from the pivot to rear wheel and back again - see output of kinematic link points below. Kind of slow for the circumstance, but means I don't need to bother writing a single piv specific solver"
   ]
  },
  {
   "cell_type": "code",
   "execution_count": null,
   "id": "hindu-logistics",
   "metadata": {
    "scrolled": true
   },
   "outputs": [],
   "source": [
    "show_leverage_ratio(single_piv_example)"
   ]
  },
  {
   "cell_type": "code",
   "execution_count": null,
   "id": "valuable-stuart",
   "metadata": {},
   "outputs": [],
   "source": [
    "show_AS(single_piv_example)"
   ]
  },
  {
   "cell_type": "markdown",
   "id": "boring-occurrence",
   "metadata": {},
   "source": [
    "### Split Pivot Test"
   ]
  },
  {
   "cell_type": "code",
   "execution_count": null,
   "id": "historical-supplier",
   "metadata": {
    "scrolled": true
   },
   "outputs": [],
   "source": [
    "show_leverage_ratio(split_piv_example)"
   ]
  },
  {
   "cell_type": "code",
   "execution_count": null,
   "id": "usual-federation",
   "metadata": {},
   "outputs": [],
   "source": [
    "show_AS(split_piv_example)"
   ]
  },
  {
   "cell_type": "markdown",
   "id": "offshore-specialist",
   "metadata": {},
   "source": [
    "## Anti Squat development"
   ]
  },
  {
   "cell_type": "markdown",
   "id": "automated-little",
   "metadata": {},
   "source": [
    "### Chainline testing\n",
    "\n",
    "Should return the bb and rear wheel point names, and the pcd of the sprockets"
   ]
  },
  {
   "cell_type": "code",
   "execution_count": null,
   "id": "circular-citizen",
   "metadata": {
    "scrolled": true
   },
   "outputs": [],
   "source": [
    "b = Bike(load_json(horst_example))\n",
    "cline = b.chainline\n",
    "posns = [b.points[cline[0][0]].pos, b.points[cline[1][0]].pos]\n",
    "print(cline)\n",
    "print(posns)\n",
    "\n",
    "b.get_suspension_motion(100,'')\n",
    "b.calculate_suspension_characteristics('')\n",
    "posn_sim_1 = b.solution[''][cline[0][0]]\n",
    "rad_1 = cline[0][1] / 2\n",
    "posn_sim_2 = b.solution[''][cline[1][0]]\n",
    "rad_2 = cline[1][1] / 2"
   ]
  },
  {
   "cell_type": "markdown",
   "id": "perceived-potential",
   "metadata": {},
   "source": [
    "Find chaninline using tangent point eqns developed here, to be copied into geometry or Bike module in future"
   ]
  },
  {
   "cell_type": "code",
   "execution_count": null,
   "id": "intermediate-recording",
   "metadata": {},
   "outputs": [],
   "source": [
    "def tangent_eqn(cen,r1,r2):\n",
    "    delta_r = r2-r1\n",
    "    z = np.add( np.power(cen[0],2) , np.power(cen[1],2))\n",
    "    d = np.sqrt( np.subtract( z , np.power(delta_r,2) ) )\n",
    "    \n",
    "    a = np.add( cen[0]*delta_r, cen[1]*d  ) / z\n",
    "    b = np.subtract( cen[1]*delta_r, cen[0]*d  ) / z\n",
    "    c = r1\n",
    "    ret = [a,b,c]\n",
    "    return ret"
   ]
  },
  {
   "cell_type": "code",
   "execution_count": null,
   "id": "quiet-fiction",
   "metadata": {},
   "outputs": [],
   "source": [
    "def find_common_circle_tangent(cen1,r1,cen2,r2):\n",
    "    tan_lines = []\n",
    "    for i in [-1,1]:\n",
    "        for j in [-1,1]: \n",
    "            cen = np.subtract(cen2 , cen1)\n",
    "            #print(cen)\n",
    "            tan_lines.append(tangent_eqn(cen, r1 * i, r2 * j))\n",
    "    for line in tan_lines:\n",
    "        s = np.add( line[0] * cen1[0] , line[1] * cen1[1])\n",
    "        line[2] = np.subtract( line[2] , s )\n",
    "    return tan_lines"
   ]
  },
  {
   "cell_type": "code",
   "execution_count": null,
   "id": "spare-synthetic",
   "metadata": {},
   "outputs": [],
   "source": [
    "def find_circle_tangent_intersection(cen,r,tangent_line):\n",
    "    line = tangent_line[:]\n",
    "    s = np.add( line[0] * cen[0] , line[1] * cen[1])\n",
    "    line[2] = np.add( line[2] , s )\n",
    "    \n",
    "    z = np.add( np.power(line[0],2) , np.power(line[1],2) )\n",
    "    x0 = -(line[0] * line[2]) / z + cen[0]\n",
    "    y0 = -(line[1] * line[2] ) / z + cen[1]\n",
    "\n",
    "    ic = Pos_Result(x0,y0)\n",
    "    return ic"
   ]
  },
  {
   "cell_type": "markdown",
   "id": "statewide-envelope",
   "metadata": {},
   "source": [
    "Plot moving chainline for validation"
   ]
  },
  {
   "cell_type": "code",
   "execution_count": null,
   "id": "exciting-temple",
   "metadata": {
    "scrolled": false
   },
   "outputs": [],
   "source": [
    "cen1 = posn_sim_1\n",
    "r1 = rad_1\n",
    "cen2 = posn_sim_2\n",
    "r2 = rad_2\n",
    "\n",
    "t_lines = find_common_circle_tangent(cen1,r1,cen2,r2)\n",
    "\n",
    "tan_points_1 = []\n",
    "tan_points_2 = []\n",
    "for line in t_lines:\n",
    "    tan_points_1.append(find_circle_tangent_intersection(cen1,r1,line))\n",
    "    tan_points_2.append(find_circle_tangent_intersection(cen2,r2,line))\n",
    "\n",
    "print(tan_points_1[0].x[0:-1:10])\n",
    "    \n",
    "#plot circles\n",
    "a = np.linspace(0,2*np.pi,100)\n",
    "\n",
    "fig,ax1 = plt.subplots()\n",
    "\n",
    "for i in range(0,cen1.x.size,10):\n",
    "    ax1.plot(cen1.x[i]+r1*np.cos(a),cen1.y[i]+r1*np.sin(a))\n",
    "    ax1.plot(cen2.x[i]+r2*np.cos(a),cen2.y[i]+r2*np.sin(a))\n",
    "\n",
    "x = [tan_points_1[0].x[0:-1:10],tan_points_2[0].x[0:-1:10]]\n",
    "y = [tan_points_1[0].y[0:-1:10],tan_points_2[0].y[0:-1:10]]\n",
    "ax1.plot(x,y)    \n",
    "       \n",
    "ax1.set_aspect(1)\n",
    "plt.show()\n"
   ]
  },
  {
   "cell_type": "markdown",
   "id": "virgin-index",
   "metadata": {},
   "source": [
    "### Big graph of everything going on to calculate AS"
   ]
  },
  {
   "cell_type": "markdown",
   "id": "moving-thing",
   "metadata": {},
   "source": [
    "Code for this has been added into Bike class, and it is produced as a solution result after calling calculate_suspension_characteristics. Here is plotting to examine whether results make sense"
   ]
  },
  {
   "cell_type": "code",
   "execution_count": null,
   "id": "noticed-technical",
   "metadata": {
    "scrolled": true
   },
   "outputs": [],
   "source": [
    "b = Bike(load_json(horst_example))\n",
    "b.get_suspension_motion(100,'')\n",
    "b.calculate_suspension_characteristics('')\n",
    "solution = b.solution['']\n",
    "\n",
    "fig, ax = plt.subplots()\n",
    "ax.clear()\n",
    "x = solution['Rear_Wheel'].x\n",
    "y = solution['Rear_Wheel'].y\n",
    "ax.plot(x, y)\n",
    "x = solution['Seatstay'].x\n",
    "y = solution['Seatstay'].y\n",
    "ax.plot(x, y)\n",
    "x = solution['Upper_Pivot'].x\n",
    "y = solution['Upper_Pivot'].y\n",
    "ax.plot(x, y,'*')\n",
    "x = solution['Horst_Pivot'].x\n",
    "y = solution['Horst_Pivot'].y\n",
    "ax.plot(x, y)\n",
    "x = solution['Main_Pivot'].x\n",
    "y = solution['Main_Pivot'].y\n",
    "ax.plot(x, y,'*')\n",
    "x = solution['IFC'].x\n",
    "y=solution['IFC'].y\n",
    "ax.plot(x, y)\n",
    "x = solution['AS_Point'].x\n",
    "y = solution['AS_Point'].y\n",
    "ax.plot(x, y)\n",
    "a = np.linspace(0,2*np.pi,100)\n",
    "x = solution['Rear_Wheel'].x[0]*np.ones_like(a) + b.chainline[-1][1] * 0.5 * np.sin(a)\n",
    "y = solution['Rear_Wheel'].y[0]*np.ones_like(a) + b.chainline[-1][1] * 0.5 * np.cos(a)\n",
    "ax.plot(x,y)\n",
    "x = solution['Bottom_Bracket'].x[0]*np.ones_like(a) + b.chainline[-2][1] * 0.5 * np.sin(a)\n",
    "y = solution['Bottom_Bracket'].y[0]*np.ones_like(a) + b.chainline[-2][1] * 0.5 * np.cos(a)\n",
    "ax.plot(x,y)\n",
    "x = solution['Rear_Wheel'].x[0]*np.ones_like(a) + 29.25*25.4 * 0.5 * np.sin(a)\n",
    "y = solution['Rear_Wheel'].y[0]*np.ones_like(a) + 29.25*25.4 * 0.5 * np.cos(a)\n",
    "ax.plot(x,y,'--')\n",
    "x = solution['Front_Wheel'].x[0]*np.ones_like(a) + 29.25*25.4 * 0.5 * np.sin(a)\n",
    "y = solution['Front_Wheel'].y[0]*np.ones_like(a) + 29.25*25.4 * 0.5 * np.cos(a)\n",
    "ax.plot(x,y,'--')\n",
    "\n",
    "x = solution['Instant Centre'].x\n",
    "y = solution['Instant Centre'].y\n",
    "plt.xlim([0,2000])\n",
    "plt.ylim([-100,1500])\n",
    "ax.plot(x, y)\n",
    "\n",
    "x = [ solution['Seatstay'].x[0] , solution['Instant Centre'].x[0] ]\n",
    "y = [ solution['Seatstay'].y[0] , solution['Instant Centre'].y[0] ]\n",
    "ax.plot(x,y,'--')\n",
    "x = [ solution['Horst_Pivot'].x[0] , solution['Instant Centre'].x[0] ]\n",
    "y = [ solution['Horst_Pivot'].y[0] , solution['Instant Centre'].y[0] ]\n",
    "ax.plot(x,y,'--')\n",
    "\n",
    "x = [ solution['Seatstay'].x[-1] , solution['Instant Centre'].x[-1] ]\n",
    "y = [ solution['Seatstay'].y[-1] , solution['Instant Centre'].y[-1] ]\n",
    "ax.plot(x,y,'--')\n",
    "x = [ solution['Horst_Pivot'].x[-1] , solution['Instant Centre'].x[-1] ]\n",
    "y = [ solution['Horst_Pivot'].y[-1] , solution['Instant Centre'].y[-1] ]\n",
    "ax.plot(x,y,'--')\n",
    "x = [ solution['Rear_Wheel'].x[0] , solution['Instant Centre'].x[0] ]\n",
    "y = [ solution['Rear_Wheel'].y[0] , solution['Instant Centre'].y[0] ]\n",
    "ax.plot(x,y,'--')\n",
    "x = [ solution['CLINE_1'].x[0] , solution['CLINE_2'].x[0] ]\n",
    "y = [ solution['CLINE_1'].y[0] , solution['CLINE_2'].y[0] ]\n",
    "ax.plot(x,y,'--')\n",
    "x = [ solution['Tyre_Contact'].x[0] , solution['AS_Point'].x[0] ]\n",
    "y = [ solution['Tyre_Contact'].y[0] , solution['AS_Point'].y[0] ]\n",
    "ax.plot(x,y,'--')\n",
    "\n",
    "ax.set_aspect('equal')\n",
    "plt.rcParams['figure.figsize'] = [9.5, 6]\n",
    "plt.show()\n",
    "\n",
    "print(str(- solution['Rear_Wheel'].x[0] + solution['Front_Wheel'].x[0]))\n",
    "print(b.params['chainring_teeth'])\n",
    "print(b.params['cassette_teeth'])\n",
    "print(b.params['wheel_size'])\n",
    "print(b.params['cog_height'])"
   ]
  },
  {
   "cell_type": "code",
   "execution_count": null,
   "id": "manual-operations",
   "metadata": {},
   "outputs": [],
   "source": []
  }
 ],
 "metadata": {
  "kernelspec": {
   "display_name": "Python 3",
   "language": "python",
   "name": "python3"
  },
  "language_info": {
   "codemirror_mode": {
    "name": "ipython",
    "version": 3
   },
   "file_extension": ".py",
   "mimetype": "text/x-python",
   "name": "python",
   "nbconvert_exporter": "python",
   "pygments_lexer": "ipython3",
   "version": "3.7.9-final"
  }
 },
 "nbformat": 4,
 "nbformat_minor": 5
}